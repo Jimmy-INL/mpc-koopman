{
 "cells": [
  {
   "cell_type": "code",
   "execution_count": 1,
   "metadata": {},
   "outputs": [],
   "source": [
    "import numpy as np\n",
    "import numpy.random as npr\n",
    "from scipy.linalg import solve_discrete_are"
   ]
  },
  {
   "cell_type": "code",
   "execution_count": 2,
   "metadata": {},
   "outputs": [],
   "source": [
    "np.set_printoptions(precision=3, suppress=True)"
   ]
  },
  {
   "cell_type": "code",
   "execution_count": 3,
   "metadata": {},
   "outputs": [],
   "source": [
    "hz = 60.0\n",
    "_sat = 5.0\n",
    "def f(s, a):\n",
    "    th, x, thdot, xdot = s\n",
    "    sdot = np.array([\n",
    "                thdot, xdot,\n",
    "                9.81*np.sin(th)/1.0+_sat*a[0]*np.cos(th)/1.0-0.2*thdot,\n",
    "                _sat*a[0]-0.1*xdot])\n",
    "    return s + sdot/hz"
   ]
  },
  {
   "cell_type": "code",
   "execution_count": 4,
   "metadata": {},
   "outputs": [],
   "source": [
    "def wrap2Pi(x):\n",
    "    th = np.fmod(x+np.pi, 2.0 * np.pi)\n",
    "    if th < 0:\n",
    "        th = th + 2.0 * np.pi\n",
    "    return th - np.pi\n",
    "\n",
    "Q = np.diag([10., 0.25, 0., 0.001, 0., 0., 0.])\n",
    "Qf = np.diag([20., 0.2, 0., 0., 0., 0.,0.])\n",
    "R = np.diag([0.01])\n",
    "\n",
    "Rinv = np.linalg.inv(R)\n",
    "\n",
    "def l(x): #loss in z space\n",
    "    x[0] = wrap2Pi(x[0])\n",
    "    return np.dot(x, np.dot(Q, x))\n",
    "\n",
    "def ldx(x):\n",
    "    x[0] = wrap2Pi(x[0])\n",
    "    return 2.*np.dot(Q, x)\n",
    "\n",
    "def m(x): #loss in z space\n",
    "    x[0] = wrap2Pi(x[0])\n",
    "    return np.dot(x, np.dot(Qf, x))\n",
    "\n",
    "def mdx(x):\n",
    "    x[0] = wrap2Pi(x[0])\n",
    "    return 2.*np.dot(Qf, x)\n"
   ]
  },
  {
   "cell_type": "code",
   "execution_count": 5,
   "metadata": {},
   "outputs": [],
   "source": [
    "state_dim = 4\n",
    "action_dim = 1\n",
    "\n",
    "num_x_obs = 7\n",
    "num_u_obs = 2\n",
    "num_obs = num_x_obs + num_u_obs\n",
    "\n",
    "def z(s):\n",
    "    th, x, thdot, xdot = s\n",
    "    return np.array([th, x, thdot, xdot, np.sin(th), np.cos(th), 1.])\n",
    "\n",
    "def v(s, a):\n",
    "    th, x, thdot, xdot = s\n",
    "    return np.array([a[0], np.cos(th) * a[0]])\n",
    "\n",
    "def dvdu(s, a):\n",
    "    return np.array([[1.0, np.cos(s[0])]]).T\n",
    "    "
   ]
  },
  {
   "cell_type": "code",
   "execution_count": 6,
   "metadata": {},
   "outputs": [
    {
     "name": "stderr",
     "output_type": "stream",
     "text": [
      "/home/burn/.local/lib/python3.6/site-packages/ipykernel_launcher.py:22: RuntimeWarning: divide by zero encountered in true_divide\n",
      "/home/burn/.local/lib/python3.6/site-packages/ipykernel_launcher.py:23: RuntimeWarning: divide by zero encountered in true_divide\n",
      "/home/burn/.local/lib/python3.6/site-packages/ipykernel_launcher.py:22: RuntimeWarning: invalid value encountered in add\n",
      "/home/burn/.local/lib/python3.6/site-packages/ipykernel_launcher.py:23: RuntimeWarning: invalid value encountered in add\n"
     ]
    },
    {
     "ename": "LinAlgError",
     "evalue": "Eigenvalues did not converge",
     "output_type": "error",
     "traceback": [
      "\u001b[0;31m---------------------------------------------------------------------------\u001b[0m",
      "\u001b[0;31mLinAlgError\u001b[0m                               Traceback (most recent call last)",
      "\u001b[0;32m<ipython-input-6-8a47fa0401a5>\u001b[0m in \u001b[0;36m<module>\u001b[0;34m\u001b[0m\n\u001b[1;32m     31\u001b[0m \u001b[0;31m# _G /= M\u001b[0m\u001b[0;34m\u001b[0m\u001b[0;34m\u001b[0m\u001b[0;34m\u001b[0m\u001b[0m\n\u001b[1;32m     32\u001b[0m \u001b[0;34m\u001b[0m\u001b[0m\n\u001b[0;32m---> 33\u001b[0;31m \u001b[0mK\u001b[0m \u001b[0;34m=\u001b[0m \u001b[0mnp\u001b[0m\u001b[0;34m.\u001b[0m\u001b[0mdot\u001b[0m\u001b[0;34m(\u001b[0m\u001b[0m_A\u001b[0m\u001b[0;34m,\u001b[0m \u001b[0mnp\u001b[0m\u001b[0;34m.\u001b[0m\u001b[0mlinalg\u001b[0m\u001b[0;34m.\u001b[0m\u001b[0mpinv\u001b[0m\u001b[0;34m(\u001b[0m\u001b[0m_G\u001b[0m\u001b[0;34m,\u001b[0m \u001b[0mhermitian\u001b[0m\u001b[0;34m=\u001b[0m\u001b[0;32mTrue\u001b[0m\u001b[0;34m)\u001b[0m\u001b[0;34m)\u001b[0m\u001b[0;34m\u001b[0m\u001b[0;34m\u001b[0m\u001b[0m\n\u001b[0m\u001b[1;32m     34\u001b[0m \u001b[0mA\u001b[0m \u001b[0;34m=\u001b[0m \u001b[0mK\u001b[0m\u001b[0;34m[\u001b[0m\u001b[0;34m:\u001b[0m\u001b[0mnum_x_obs\u001b[0m\u001b[0;34m,\u001b[0m\u001b[0;34m:\u001b[0m\u001b[0mnum_x_obs\u001b[0m\u001b[0;34m]\u001b[0m\u001b[0;34m\u001b[0m\u001b[0;34m\u001b[0m\u001b[0m\n\u001b[1;32m     35\u001b[0m \u001b[0mB\u001b[0m \u001b[0;34m=\u001b[0m \u001b[0mK\u001b[0m\u001b[0;34m[\u001b[0m\u001b[0;34m:\u001b[0m\u001b[0mnum_x_obs\u001b[0m\u001b[0;34m,\u001b[0m \u001b[0mnum_x_obs\u001b[0m\u001b[0;34m:\u001b[0m\u001b[0;34m]\u001b[0m\u001b[0;34m\u001b[0m\u001b[0;34m\u001b[0m\u001b[0m\n",
      "\u001b[0;32m<__array_function__ internals>\u001b[0m in \u001b[0;36mpinv\u001b[0;34m(*args, **kwargs)\u001b[0m\n",
      "\u001b[0;32m~/.local/lib/python3.6/site-packages/numpy/linalg/linalg.py\u001b[0m in \u001b[0;36mpinv\u001b[0;34m(a, rcond, hermitian)\u001b[0m\n\u001b[1;32m   1968\u001b[0m         \u001b[0;32mreturn\u001b[0m \u001b[0mwrap\u001b[0m\u001b[0;34m(\u001b[0m\u001b[0mres\u001b[0m\u001b[0;34m)\u001b[0m\u001b[0;34m\u001b[0m\u001b[0;34m\u001b[0m\u001b[0m\n\u001b[1;32m   1969\u001b[0m     \u001b[0ma\u001b[0m \u001b[0;34m=\u001b[0m \u001b[0ma\u001b[0m\u001b[0;34m.\u001b[0m\u001b[0mconjugate\u001b[0m\u001b[0;34m(\u001b[0m\u001b[0;34m)\u001b[0m\u001b[0;34m\u001b[0m\u001b[0;34m\u001b[0m\u001b[0m\n\u001b[0;32m-> 1970\u001b[0;31m     \u001b[0mu\u001b[0m\u001b[0;34m,\u001b[0m \u001b[0ms\u001b[0m\u001b[0;34m,\u001b[0m \u001b[0mvt\u001b[0m \u001b[0;34m=\u001b[0m \u001b[0msvd\u001b[0m\u001b[0;34m(\u001b[0m\u001b[0ma\u001b[0m\u001b[0;34m,\u001b[0m \u001b[0mfull_matrices\u001b[0m\u001b[0;34m=\u001b[0m\u001b[0;32mFalse\u001b[0m\u001b[0;34m,\u001b[0m \u001b[0mhermitian\u001b[0m\u001b[0;34m=\u001b[0m\u001b[0mhermitian\u001b[0m\u001b[0;34m)\u001b[0m\u001b[0;34m\u001b[0m\u001b[0;34m\u001b[0m\u001b[0m\n\u001b[0m\u001b[1;32m   1971\u001b[0m \u001b[0;34m\u001b[0m\u001b[0m\n\u001b[1;32m   1972\u001b[0m     \u001b[0;31m# discard small singular values\u001b[0m\u001b[0;34m\u001b[0m\u001b[0;34m\u001b[0m\u001b[0;34m\u001b[0m\u001b[0m\n",
      "\u001b[0;32m<__array_function__ internals>\u001b[0m in \u001b[0;36msvd\u001b[0;34m(*args, **kwargs)\u001b[0m\n",
      "\u001b[0;32m~/.local/lib/python3.6/site-packages/numpy/linalg/linalg.py\u001b[0m in \u001b[0;36msvd\u001b[0;34m(a, full_matrices, compute_uv, hermitian)\u001b[0m\n\u001b[1;32m   1602\u001b[0m         \u001b[0;31m# reversing is cheap by design in numpy, so we do so to be consistent\u001b[0m\u001b[0;34m\u001b[0m\u001b[0;34m\u001b[0m\u001b[0;34m\u001b[0m\u001b[0m\n\u001b[1;32m   1603\u001b[0m         \u001b[0;32mif\u001b[0m \u001b[0mcompute_uv\u001b[0m\u001b[0;34m:\u001b[0m\u001b[0;34m\u001b[0m\u001b[0;34m\u001b[0m\u001b[0m\n\u001b[0;32m-> 1604\u001b[0;31m             \u001b[0ms\u001b[0m\u001b[0;34m,\u001b[0m \u001b[0mu\u001b[0m \u001b[0;34m=\u001b[0m \u001b[0meigh\u001b[0m\u001b[0;34m(\u001b[0m\u001b[0ma\u001b[0m\u001b[0;34m)\u001b[0m\u001b[0;34m\u001b[0m\u001b[0;34m\u001b[0m\u001b[0m\n\u001b[0m\u001b[1;32m   1605\u001b[0m             \u001b[0ms\u001b[0m \u001b[0;34m=\u001b[0m \u001b[0ms\u001b[0m\u001b[0;34m[\u001b[0m\u001b[0;34m...\u001b[0m\u001b[0;34m,\u001b[0m \u001b[0;34m:\u001b[0m\u001b[0;34m:\u001b[0m\u001b[0;34m-\u001b[0m\u001b[0;36m1\u001b[0m\u001b[0;34m]\u001b[0m\u001b[0;34m\u001b[0m\u001b[0;34m\u001b[0m\u001b[0m\n\u001b[1;32m   1606\u001b[0m             \u001b[0mu\u001b[0m \u001b[0;34m=\u001b[0m \u001b[0mu\u001b[0m\u001b[0;34m[\u001b[0m\u001b[0;34m...\u001b[0m\u001b[0;34m,\u001b[0m \u001b[0;34m:\u001b[0m\u001b[0;34m:\u001b[0m\u001b[0;34m-\u001b[0m\u001b[0;36m1\u001b[0m\u001b[0;34m]\u001b[0m\u001b[0;34m\u001b[0m\u001b[0;34m\u001b[0m\u001b[0m\n",
      "\u001b[0;32m<__array_function__ internals>\u001b[0m in \u001b[0;36meigh\u001b[0;34m(*args, **kwargs)\u001b[0m\n",
      "\u001b[0;32m~/.local/lib/python3.6/site-packages/numpy/linalg/linalg.py\u001b[0m in \u001b[0;36meigh\u001b[0;34m(a, UPLO)\u001b[0m\n\u001b[1;32m   1454\u001b[0m \u001b[0;34m\u001b[0m\u001b[0m\n\u001b[1;32m   1455\u001b[0m     \u001b[0msignature\u001b[0m \u001b[0;34m=\u001b[0m \u001b[0;34m'D->dD'\u001b[0m \u001b[0;32mif\u001b[0m \u001b[0misComplexType\u001b[0m\u001b[0;34m(\u001b[0m\u001b[0mt\u001b[0m\u001b[0;34m)\u001b[0m \u001b[0;32melse\u001b[0m \u001b[0;34m'd->dd'\u001b[0m\u001b[0;34m\u001b[0m\u001b[0;34m\u001b[0m\u001b[0m\n\u001b[0;32m-> 1456\u001b[0;31m     \u001b[0mw\u001b[0m\u001b[0;34m,\u001b[0m \u001b[0mvt\u001b[0m \u001b[0;34m=\u001b[0m \u001b[0mgufunc\u001b[0m\u001b[0;34m(\u001b[0m\u001b[0ma\u001b[0m\u001b[0;34m,\u001b[0m \u001b[0msignature\u001b[0m\u001b[0;34m=\u001b[0m\u001b[0msignature\u001b[0m\u001b[0;34m,\u001b[0m \u001b[0mextobj\u001b[0m\u001b[0;34m=\u001b[0m\u001b[0mextobj\u001b[0m\u001b[0;34m)\u001b[0m\u001b[0;34m\u001b[0m\u001b[0;34m\u001b[0m\u001b[0m\n\u001b[0m\u001b[1;32m   1457\u001b[0m     \u001b[0mw\u001b[0m \u001b[0;34m=\u001b[0m \u001b[0mw\u001b[0m\u001b[0;34m.\u001b[0m\u001b[0mastype\u001b[0m\u001b[0;34m(\u001b[0m\u001b[0m_realType\u001b[0m\u001b[0;34m(\u001b[0m\u001b[0mresult_t\u001b[0m\u001b[0;34m)\u001b[0m\u001b[0;34m,\u001b[0m \u001b[0mcopy\u001b[0m\u001b[0;34m=\u001b[0m\u001b[0;32mFalse\u001b[0m\u001b[0;34m)\u001b[0m\u001b[0;34m\u001b[0m\u001b[0;34m\u001b[0m\u001b[0m\n\u001b[1;32m   1458\u001b[0m     \u001b[0mvt\u001b[0m \u001b[0;34m=\u001b[0m \u001b[0mvt\u001b[0m\u001b[0;34m.\u001b[0m\u001b[0mastype\u001b[0m\u001b[0;34m(\u001b[0m\u001b[0mresult_t\u001b[0m\u001b[0;34m,\u001b[0m \u001b[0mcopy\u001b[0m\u001b[0;34m=\u001b[0m\u001b[0;32mFalse\u001b[0m\u001b[0;34m)\u001b[0m\u001b[0;34m\u001b[0m\u001b[0;34m\u001b[0m\u001b[0m\n",
      "\u001b[0;32m~/.local/lib/python3.6/site-packages/numpy/linalg/linalg.py\u001b[0m in \u001b[0;36m_raise_linalgerror_eigenvalues_nonconvergence\u001b[0;34m(err, flag)\u001b[0m\n\u001b[1;32m    101\u001b[0m \u001b[0;34m\u001b[0m\u001b[0m\n\u001b[1;32m    102\u001b[0m \u001b[0;32mdef\u001b[0m \u001b[0m_raise_linalgerror_eigenvalues_nonconvergence\u001b[0m\u001b[0;34m(\u001b[0m\u001b[0merr\u001b[0m\u001b[0;34m,\u001b[0m \u001b[0mflag\u001b[0m\u001b[0;34m)\u001b[0m\u001b[0;34m:\u001b[0m\u001b[0;34m\u001b[0m\u001b[0;34m\u001b[0m\u001b[0m\n\u001b[0;32m--> 103\u001b[0;31m     \u001b[0;32mraise\u001b[0m \u001b[0mLinAlgError\u001b[0m\u001b[0;34m(\u001b[0m\u001b[0;34m\"Eigenvalues did not converge\"\u001b[0m\u001b[0;34m)\u001b[0m\u001b[0;34m\u001b[0m\u001b[0;34m\u001b[0m\u001b[0m\n\u001b[0m\u001b[1;32m    104\u001b[0m \u001b[0;34m\u001b[0m\u001b[0m\n\u001b[1;32m    105\u001b[0m \u001b[0;32mdef\u001b[0m \u001b[0m_raise_linalgerror_svd_nonconvergence\u001b[0m\u001b[0;34m(\u001b[0m\u001b[0merr\u001b[0m\u001b[0;34m,\u001b[0m \u001b[0mflag\u001b[0m\u001b[0;34m)\u001b[0m\u001b[0;34m:\u001b[0m\u001b[0;34m\u001b[0m\u001b[0;34m\u001b[0m\u001b[0m\n",
      "\u001b[0;31mLinAlgError\u001b[0m: Eigenvalues did not converge"
     ]
    }
   ],
   "source": [
    "npr.seed(0) ## set the seed for reproducibility \n",
    "num_trials = 60 ## number of resets\n",
    "horizon    = 100 ## how long we simulate the system for\n",
    "M = num_trials * horizon ## M sized data\n",
    "\n",
    "_A = np.zeros((num_obs, num_obs))\n",
    "_G = np.zeros((num_obs, num_obs))\n",
    "cnt = 0\n",
    "s_bnds = np.array([6.24, 1.0, 2.0, 2.0])\n",
    "a_bnds = np.array([1.])\n",
    "## loop to collect data\n",
    "for k in range(num_trials):\n",
    "#     x_t = npr.uniform(low=-s_bnds, high=s_bnds)\n",
    "    x_t = npr.normal(s_bnds*0., s_bnds)\n",
    "    for t in range(horizon):\n",
    "        u_t = npr.normal(0.*a_bnds, a_bnds)\n",
    "        x_tpo = f(x_t, u_t)\n",
    "        u_tpo = u_t\n",
    "\n",
    "        z1 = np.concatenate([z(x_t), v(x_t, u_t)])\n",
    "        z2 = np.concatenate([z(x_tpo), v(x_tpo, u_t)])\n",
    "        cnt += 1\n",
    "        _A += np.outer(z2, z1)/cnt\n",
    "        _G += np.outer(z1, z1)/cnt\n",
    "        \n",
    "        # reset for next loop\n",
    "        x_t = x_tpo\n",
    "        u_t = u_tpo\n",
    "\n",
    "        \n",
    "# _A /= M\n",
    "# _G /= M\n",
    "\n",
    "K = np.dot(_A, np.linalg.pinv(_G, hermitian=True))\n",
    "A = K[:num_x_obs,:num_x_obs]\n",
    "B = K[:num_x_obs, num_x_obs:]\n",
    "\n",
    "# A[np.abs(A)<1e-3] = 0\n",
    "# B[np.abs(B)<1e-3] = 0"
   ]
  },
  {
   "cell_type": "code",
   "execution_count": null,
   "metadata": {},
   "outputs": [],
   "source": [
    "T = int(1.5*hz)\n",
    "u = [np.zeros(1) for t in range(T)]\n",
    "def update(x, u, A, B):\n",
    "    zt = z(x.copy())\n",
    "    zot = []\n",
    "    for t in range(T):\n",
    "        zt = z(zt[:state_dim])\n",
    "        zot.append(zt.copy())\n",
    "        zt = np.dot(A, zt) + np.dot(B, v(zt[:state_dim], u[t]))\n",
    "    rho = np.zeros_like(zt)\n",
    "    for t in reversed(range(T)):\n",
    "        rho = ldx(zot[t].copy()) + np.dot(A.T, rho)\n",
    "        Beff = np.dot(B, dvdu(zot[t], u[t]))\n",
    "#         u[t] = np.clip(-Rinv.dot(Beff.T.dot(rho)), -1., 1.)\n",
    "        du = Beff.T.dot(rho) + 2.0 * R.dot(u[t])\n",
    "        u[t] = np.clip(u[t] - 0.1 * du, -1, 1)\n",
    "    return u"
   ]
  },
  {
   "cell_type": "code",
   "execution_count": 8,
   "metadata": {},
   "outputs": [
    {
     "name": "stdout",
     "output_type": "stream",
     "text": [
      "[ 3.14   0.     0.084 -0.083]\n",
      "[ 3.824 -1.418 -1.183 -1.544]\n",
      "[ 1.538 -1.015 -0.899  1.898]\n",
      "[ 3.955 -1.054  5.488 -2.092]\n",
      "[ 5.962 -2.106  0.453 -0.42 ]\n",
      "[ 6.139 -1.832  0.123  0.985]\n",
      "[ 6.197 -0.68   0.063  1.758]\n",
      "[6.274 0.979 0.221 2.237]\n",
      "[6.392 2.591 0.066 1.454]\n",
      "[6.407 3.345 0.017 0.374]\n",
      "[ 6.38   3.216  0.059 -0.501]\n",
      "[ 6.348  2.449  0.004 -1.164]\n",
      "[ 6.329  1.303  0.08  -1.425]\n",
      "[ 6.302 -0.075 -0.068 -1.774]\n",
      "[ 6.198 -1.528 -0.225 -1.628]\n",
      "[ 6.19  -2.317  0.062 -0.414]\n",
      "[ 6.201 -2.393  0.11   0.361]\n",
      "[ 6.162 -1.925 -0.023  1.022]\n",
      "[ 6.212 -0.682  0.176  1.946]\n",
      "[6.313 0.988 0.241 2.113]\n",
      "[6.39  2.347 0.166 1.269]\n",
      "[ 6.441  2.831  0.044 -0.069]\n",
      "[ 6.429  2.18  -0.121 -1.535]\n",
      "[ 6.339  0.575 -0.107 -2.208]\n",
      "[ 6.216 -1.298 -0.075 -1.981]\n",
      "[ 6.19  -2.591 -0.053 -1.145]\n",
      "[ 6.18  -3.153 -0.052 -0.266]\n",
      "[ 6.194 -2.988 -0.07   0.486]\n",
      "[ 6.22  -2.248  0.054  1.182]\n",
      "[ 6.231 -1.158 -0.039  1.409]\n",
      "[ 6.223  0.182 -0.065  1.736]\n",
      "[6.353 1.842 0.137 1.822]\n",
      "[ 6.405  2.937 -0.037  0.702]\n",
      "[ 6.376  3.141 -0.079 -0.22 ]\n",
      "[ 6.361  2.732 -0.129 -0.914]\n",
      "[ 6.331  1.857 -0.052 -1.26 ]\n",
      "[ 6.354  0.729  0.02  -1.573]\n",
      "[ 6.296 -0.809 -0.209 -2.086]\n",
      "[ 6.18  -2.331 -0.12  -1.445]\n",
      "[ 6.177 -3.032 -0.027 -0.374]\n",
      "[ 6.196 -2.965 -0.082  0.354]\n",
      "[ 6.221 -2.324 -0.036  0.972]\n",
      "[ 6.227 -1.335 -0.162  1.164]\n",
      "[ 6.22  -0.073  0.133  1.871]\n",
      "[6.304 1.517 0.068 1.835]\n",
      "[6.455 2.87  0.017 0.889]\n",
      "[ 6.455  2.974 -0.115 -0.753]\n",
      "[ 6.388  1.913 -0.04  -1.71 ]\n",
      "[ 6.33   0.233 -0.119 -2.266]\n",
      "[ 6.164 -1.67  -0.207 -2.008]\n",
      "[ 6.103 -2.668 -0.045 -0.416]\n",
      "[ 6.203 -2.316  0.061  0.873]\n",
      "[ 6.246 -1.416 -0.005  1.191]\n",
      "[ 6.288 -0.32   0.031  1.307]\n",
      "[ 6.334  0.668 -0.048  0.871]\n",
      "[ 6.337  1.236 -0.056  0.37 ]\n",
      "[ 6.337  1.399 -0.018 -0.052]\n",
      "[ 6.33   1.2   -0.061 -0.48 ]\n",
      "[ 6.369  0.716 -0.053 -0.969]\n",
      "[ 6.327 -0.304 -0.232 -1.622]\n"
     ]
    }
   ],
   "source": [
    "xt = np.array([3.14, 0., 0., 0.])\n",
    "trajectory = []\n",
    "\n",
    "for t in range(int(50*hz)):\n",
    "    u[:-1] = u[1:]\n",
    "    u[-1] = np.zeros_like(u[-1])\n",
    "    u = update(xt, u, A, B)\n",
    "\n",
    "    u1 = u[0]\n",
    "    xtpo = f(xt, u1)\n",
    "\n",
    "    z1 = np.concatenate([z(xt), v(xt, u1)])\n",
    "    z2 = np.concatenate([z(xtpo), v(xtpo, u1)])\n",
    "    cnt +=1 \n",
    "    _A += np.outer(z2, z1)/cnt\n",
    "    _G += np.outer(z1, z1)/cnt\n",
    "    \n",
    "    K = np.dot(_A, np.linalg.pinv(_G, hermitian=True))\n",
    "    A = K[:num_x_obs,:num_x_obs]\n",
    "    B = K[:num_x_obs, num_x_obs:]\n",
    "    \n",
    "    xt = xtpo\n",
    "    \n",
    "    trajectory.append(xt.copy())\n",
    "    if t % 50 == 0:\n",
    "        print(xt)"
   ]
  },
  {
   "cell_type": "code",
   "execution_count": 9,
   "metadata": {},
   "outputs": [
    {
     "data": {
      "image/png": "[encoded data removed]",
      "text/plain": [
       "<Figure size 432x288 with 1 Axes>"
      ]
     },
     "metadata": {
      "needs_background": "light"
     },
     "output_type": "display_data"
    }
   ],
   "source": [
    "import matplotlib.pyplot as plt\n",
    "trajectory = np.stack(trajectory)\n",
    "plt.plot(trajectory[:,0])\n",
    "plt.plot(trajectory[:,1])\n",
    "plt.xlabel('t')\n",
    "plt.ylabel('theta, x')\n",
    "plt.show()"
   ]
  },
  {
   "cell_type": "code",
   "execution_count": null,
   "metadata": {},
   "outputs": [],
   "source": []
  }
 ],
 "metadata": {
  "kernelspec": {
   "display_name": "Python 3",
   "language": "python",
   "name": "python3"
  },
  "language_info": {
   "codemirror_mode": {
    "name": "ipython",
    "version": 3
   },
   "file_extension": ".py",
   "mimetype": "text/x-python",
   "name": "python",
   "nbconvert_exporter": "python",
   "pygments_lexer": "ipython3",
   "version": "3.6.9"
  }
 },
 "nbformat": 4,
 "nbformat_minor": 4
}
