{
 "cells": [
  {
   "cell_type": "code",
   "execution_count": 1,
   "metadata": {},
   "outputs": [],
   "source": [
    "import numpy as np\n",
    "import numpy.random as npr\n",
    "from scipy.linalg import solve_discrete_are"
   ]
  },
  {
   "cell_type": "code",
   "execution_count": 2,
   "metadata": {},
   "outputs": [],
   "source": [
    "np.set_printoptions(precision=3, suppress=True)"
   ]
  },
  {
   "cell_type": "code",
   "execution_count": 3,
   "metadata": {},
   "outputs": [],
   "source": [
    "hz = 60.0\n",
    "_sat = 5.0\n",
    "def f(s, a):\n",
    "    th, x, thdot, xdot = s\n",
    "    sdot = np.array([\n",
    "                thdot, xdot,\n",
    "                9.81*np.sin(th)/1.0+_sat*a[0]*np.cos(th)/1.0-0.2*thdot,\n",
    "                _sat*a[0]-0.1*xdot])\n",
    "    return s + sdot/hz"
   ]
  },
  {
   "cell_type": "code",
   "execution_count": 4,
   "metadata": {},
   "outputs": [],
   "source": [
    "def wrap2Pi(x):\n",
    "    th = np.fmod(x+np.pi, 2.0 * np.pi)\n",
    "    if th < 0:\n",
    "        th = th + 2.0 * np.pi\n",
    "    return th - np.pi\n",
    "\n",
    "Q = np.diag([10., .2, 0., 0.05, 0., 0., 0.])\n",
    "Qf = np.diag([20., 0.2, 0., 0., 0., 0.,0.])\n",
    "R = np.diag([0.01])\n",
    "\n",
    "Rinv = np.linalg.inv(R)\n",
    "\n",
    "def l(x): #loss in z space\n",
    "    x[0] = wrap2Pi(x[0])\n",
    "    return np.dot(x, np.dot(Q, x))\n",
    "\n",
    "def ldx(x):\n",
    "    x[0] = wrap2Pi(x[0])\n",
    "    return 2.*np.dot(Q, x)\n",
    "\n",
    "def m(x): #loss in z space\n",
    "    x[0] = wrap2Pi(x[0])\n",
    "    return np.dot(x, np.dot(Qf, x))\n",
    "\n",
    "def mdx(x):\n",
    "    x[0] = wrap2Pi(x[0])\n",
    "    return 2.*np.dot(Qf, x)\n"
   ]
  },
  {
   "cell_type": "code",
   "execution_count": 5,
   "metadata": {},
   "outputs": [],
   "source": [
    "state_dim = 4\n",
    "action_dim = 1\n",
    "\n",
    "num_x_obs = 7\n",
    "num_u_obs = 2\n",
    "num_obs = num_x_obs + num_u_obs\n",
    "\n",
    "def z(s):\n",
    "    th, x, thdot, xdot = s\n",
    "    return np.array([th, x, thdot, xdot, np.sin(th), np.cos(th), 1.])\n",
    "\n",
    "def v(s, a):\n",
    "    th, x, thdot, xdot = s\n",
    "    return np.array([a[0], np.cos(th) * a[0]])\n",
    "\n",
    "def dvdu(s, a):\n",
    "    return np.array([[1.0, np.cos(s[0])]]).T\n",
    "def dvdz(s, a):\n",
    "    th, x, thdot, xdot = s\n",
    "    out = np.zeros((num_u_obs, num_x_obs))\n",
    "    out[:,0] = np.array([0., -np.sin(th) * a[0]])\n",
    "    return out "
   ]
  },
  {
   "cell_type": "code",
   "execution_count": 6,
   "metadata": {},
   "outputs": [],
   "source": [
    "npr.seed(0) ## set the seed for reproducibility \n",
    "num_trials = 60 ## number of resets\n",
    "horizon    = 100 ## how long we simulate the system for\n",
    "M = num_trials * horizon ## M sized data\n",
    "\n",
    "_A = np.zeros((num_obs, num_obs))\n",
    "_G = np.zeros((num_obs, num_obs))\n",
    "cnt = 0\n",
    "s_bnds = np.array([6.24, 1.0, 2.0, 2.0])\n",
    "a_bnds = np.array([1.])\n",
    "## loop to collect data\n",
    "for k in range(num_trials):\n",
    "#     x_t = npr.uniform(low=-s_bnds, high=s_bnds)\n",
    "    x_t = npr.normal(s_bnds*0., s_bnds)\n",
    "    for t in range(horizon):\n",
    "        u_t = npr.normal(0.*a_bnds, a_bnds)\n",
    "        x_tpo = f(x_t, u_t)\n",
    "        u_tpo = u_t\n",
    "\n",
    "        z1 = np.concatenate([z(x_t), v(x_t, u_t)])\n",
    "        z2 = np.concatenate([z(x_tpo), v(x_tpo, u_t)])\n",
    "        cnt += 1\n",
    "        _A += np.outer(z2, z1)/cnt\n",
    "        _G += np.outer(z1, z1)/cnt\n",
    "        \n",
    "        # reset for next loop\n",
    "        x_t = x_tpo\n",
    "        u_t = u_tpo\n",
    "\n",
    "        \n",
    "# _A /= M\n",
    "# _G /= M\n",
    "\n",
    "K = np.dot(_A, np.linalg.pinv(_G))\n",
    "A = K[:num_x_obs,:num_x_obs]\n",
    "B = K[:num_x_obs, num_x_obs:]\n",
    "\n",
    "# A[np.abs(A)<1e-3] = 0\n",
    "# B[np.abs(B)<1e-3] = 0"
   ]
  },
  {
   "cell_type": "code",
   "execution_count": 7,
   "metadata": {},
   "outputs": [],
   "source": [
    "T = int(1.5*hz)\n",
    "u = [np.zeros(1) for t in range(T)]\n",
    "def update(x, u, A, B):\n",
    "    zt = z(x.copy())\n",
    "    zot = []\n",
    "    for t in range(T):\n",
    "        zt = z(zt[:state_dim])\n",
    "        zot.append(zt.copy())\n",
    "        zt = np.dot(A, zt) + np.dot(B, v(zt[:state_dim], u[t]))\n",
    "    rho = np.zeros_like(zt)\n",
    "    for t in reversed(range(T)):\n",
    "        Bdz = np.dot(B, dvdz(zot[t][:state_dim], u[t]))\n",
    "        rho = ldx(zot[t].copy()) + np.dot((A+Bdz).T, rho)\n",
    "        Beff = np.dot(B, dvdu(zot[t], u[t]))\n",
    "#         u[t] = np.clip(-Rinv.dot(Beff.T.dot(rho)), -1., 1.)\n",
    "        du = Beff.T.dot(rho) + 2.0 * R.dot(u[t])\n",
    "        u[t] = np.clip(u[t] - 0.1 * du, -1, 1)\n",
    "    return u"
   ]
  },
  {
   "cell_type": "code",
   "execution_count": 10,
   "metadata": {},
   "outputs": [
    {
     "name": "stdout",
     "output_type": "stream",
     "text": [
      "[ 3.14   0.    -0.083  0.083]\n",
      "[ 3.687 -1.084  0.243 -2.484]\n",
      "[ 3.53  -4.612 -0.403 -5.955]\n",
      "[  3.075 -10.117  -1.177  -6.16 ]\n",
      "[  2.163 -13.39    0.54   -1.666]\n",
      "[  4.034 -14.145   2.269  -1.077]\n",
      "[  2.43  -13.35   -4.608   3.01 ]\n",
      "[ 1.728 -9.284  3.533  6.77 ]\n",
      "[ 5.696 -4.774  2.39   4.687]\n",
      "[ 6.422 -1.554  0.083  2.878]\n",
      "[6.464 0.192 0.097 1.326]\n",
      "[ 6.396  0.543 -0.124 -0.249]\n",
      "[ 6.368  0.09  -0.055 -0.923]\n",
      "[ 6.348 -0.888 -0.041 -1.445]\n",
      "[ 6.3   -2.223  0.06  -1.544]\n",
      "[ 6.29  -3.609 -0.117 -1.792]\n",
      "[ 6.309 -4.947 -0.064 -1.67 ]\n",
      "[ 6.229 -6.374 -0.064 -1.573]\n",
      "[ 6.226 -7.371 -0.121 -1.008]\n",
      "[ 6.128 -7.872 -0.088 -0.008]\n",
      "[ 6.162 -7.284 -0.002  1.187]\n",
      "[ 6.175 -5.938  0.035  2.034]\n",
      "[ 6.198 -3.997 -0.028  2.548]\n",
      "[ 6.209 -1.654  0.028  3.04 ]\n",
      "[6.267 1.013 0.207 3.398]\n",
      "[6.407 3.59  0.031 2.485]\n",
      "[ 6.415  5.147 -0.093  1.152]\n",
      "[ 6.384  5.698 -0.007  0.186]\n",
      "[ 6.378  5.533 -0.051 -0.626]\n",
      "[ 6.39   4.761 -0.079 -1.411]\n",
      "[ 6.371  3.346 -0.049 -2.042]\n",
      "[ 6.364  1.473 -0.029 -2.513]\n",
      "[ 6.335 -0.774  0.045 -2.749]\n",
      "[ 6.319 -3.165 -0.033 -2.918]\n",
      "[ 6.259 -5.593  0.021 -2.703]\n",
      "[ 6.319 -7.704 -0.554 -3.187]\n",
      "[ 6.107 -9.786  0.063 -1.447]\n",
      "[  6.132 -10.46   -0.127  -0.306]\n",
      "[  6.151 -10.067   0.053   1.121]\n",
      "[ 6.194 -8.787  0.131  1.974]\n",
      "[ 6.18  -7.028  0.011  2.461]\n",
      "[ 6.197 -4.723  0.051  3.064]\n",
      "[ 6.209 -2.029  0.099  3.517]\n",
      "[6.372 0.987 0.109 3.284]\n",
      "[6.417 3.201 0.019 1.957]\n",
      "[6.376 4.299 0.043 0.895]\n",
      "[6.374 4.685 0.047 0.128]\n",
      "[ 6.385  4.456  0.028 -0.649]\n"
     ]
    }
   ],
   "source": [
    "xt = np.array([3.14, 0., 0., 0.])\n",
    "\n",
    "trajectory = []\n",
    "\n",
    "for t in range(int(40*hz)):\n",
    "    u[:-1] = u[1:]\n",
    "    u[-1] = np.zeros_like(u[-1])\n",
    "    u = update(xt, u, A, B)\n",
    "\n",
    "    u1 = u[0]\n",
    "    xtpo = f(xt, u1)\n",
    "\n",
    "    z1 = np.concatenate([z(xt), v(xt, u1)])\n",
    "    z2 = np.concatenate([z(xtpo), v(xtpo, u1)])\n",
    "    cnt +=1 \n",
    "    _A += np.outer(z2, z1)/cnt\n",
    "    _G += np.outer(z1, z1)/cnt\n",
    "    \n",
    "    K = np.dot(_A, np.linalg.pinv(_G))\n",
    "    A = K[:num_x_obs,:num_x_obs]\n",
    "    B = K[:num_x_obs, num_x_obs:]\n",
    "    \n",
    "    xt = xtpo\n",
    "    \n",
    "    trajectory.append(xt.copy())\n",
    "    if t % 50 == 0:\n",
    "        print(xt)"
   ]
  },
  {
   "cell_type": "code",
   "execution_count": 11,
   "metadata": {},
   "outputs": [
    {
     "data": {
      "image/png": "[encoded data removed]",
      "text/plain": [
       "<Figure size 432x288 with 1 Axes>"
      ]
     },
     "metadata": {
      "needs_background": "light"
     },
     "output_type": "display_data"
    }
   ],
   "source": [
    "import matplotlib.pyplot as plt\n",
    "trajectory = np.stack(trajectory)\n",
    "plt.plot(trajectory[:,0])\n",
    "plt.plot(trajectory[:,1])\n",
    "plt.xlabel('t')\n",
    "plt.ylabel('theta, x')\n",
    "plt.show()"
   ]
  },
  {
   "cell_type": "code",
   "execution_count": null,
   "metadata": {},
   "outputs": [],
   "source": []
  }
 ],
 "metadata": {
  "kernelspec": {
   "display_name": "Python 3",
   "language": "python",
   "name": "python3"
  },
  "language_info": {
   "codemirror_mode": {
    "name": "ipython",
    "version": 3
   },
   "file_extension": ".py",
   "mimetype": "text/x-python",
   "name": "python",
   "nbconvert_exporter": "python",
   "pygments_lexer": "ipython3",
   "version": "3.6.9"
  }
 },
 "nbformat": 4,
 "nbformat_minor": 4
}
