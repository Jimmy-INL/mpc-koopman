{
 "cells": [
  {
   "cell_type": "code",
   "execution_count": 1,
   "metadata": {},
   "outputs": [],
   "source": [
    "import numpy as np\n",
    "import numpy.random as npr\n",
    "from scipy.linalg import solve_discrete_are"
   ]
  },
  {
   "cell_type": "code",
   "execution_count": 2,
   "metadata": {},
   "outputs": [],
   "source": [
    "np.set_printoptions(precision=3, suppress=True)"
   ]
  },
  {
   "cell_type": "code",
   "execution_count": 3,
   "metadata": {},
   "outputs": [],
   "source": [
    "hz = 60.0\n",
    "_sat = 5.0\n",
    "def f(s, a):\n",
    "    th, x, thdot, xdot = s\n",
    "    sdot = np.array([\n",
    "                thdot, xdot,\n",
    "                9.81*np.sin(th)/1.0+_sat*a[0]*np.cos(th)/1.0-0.2*thdot,\n",
    "                _sat*a[0]-0.1*xdot])\n",
    "    return s + sdot/hz"
   ]
  },
  {
   "cell_type": "code",
   "execution_count": 4,
   "metadata": {},
   "outputs": [],
   "source": [
    "def wrap2Pi(x):\n",
    "    th = np.fmod(x+np.pi, 2.0 * np.pi)\n",
    "    if th < 0:\n",
    "        th = th + 2.0 * np.pi\n",
    "    return th - np.pi\n",
    "\n",
    "Q = np.diag([10., 0.25, 0., 0.001, 0., 0., 0.])\n",
    "Qf = np.diag([20., 0.2, 0., 0., 0., 0.,0.])\n",
    "R = np.diag([0.01])\n",
    "\n",
    "Rinv = np.linalg.inv(R)\n",
    "\n",
    "def l(x): #loss in z space\n",
    "    x[0] = wrap2Pi(x[0])\n",
    "    return np.dot(x, np.dot(Q, x))\n",
    "\n",
    "def ldx(x):\n",
    "    x[0] = wrap2Pi(x[0])\n",
    "    return 2.*np.dot(Q, x)\n",
    "\n",
    "def m(x): #loss in z space\n",
    "    x[0] = wrap2Pi(x[0])\n",
    "    return np.dot(x, np.dot(Qf, x))\n",
    "\n",
    "def mdx(x):\n",
    "    x[0] = wrap2Pi(x[0])\n",
    "    return 2.*np.dot(Qf, x)\n"
   ]
  },
  {
   "cell_type": "code",
   "execution_count": 5,
   "metadata": {},
   "outputs": [],
   "source": [
    "state_dim = 4\n",
    "action_dim = 1\n",
    "\n",
    "num_x_obs = 7\n",
    "num_u_obs = 2\n",
    "num_obs = num_x_obs + num_u_obs\n",
    "\n",
    "def z(s):\n",
    "    th, x, thdot, xdot = s\n",
    "    return np.array([th, x, thdot, xdot, np.sin(th), np.cos(th), 1.])\n",
    "\n",
    "def v(s, a):\n",
    "    th, x, thdot, xdot = s\n",
    "    return np.array([a[0], np.cos(th) * a[0]])\n",
    "\n",
    "def dvdu(s, a):\n",
    "    return np.array([[1.0, np.cos(s[0])]]).T\n",
    "    "
   ]
  },
  {
   "cell_type": "code",
   "execution_count": 6,
   "metadata": {},
   "outputs": [],
   "source": [
    "npr.seed(0) ## set the seed for reproducibility \n",
    "num_trials = 60 ## number of resets\n",
    "horizon    = 100 ## how long we simulate the system for\n",
    "M = num_trials * horizon ## M sized data\n",
    "\n",
    "_A = np.zeros((num_obs, num_obs))\n",
    "_G = np.zeros((num_obs, num_obs))\n",
    "# cnt = 0\n",
    "s_bnds = np.array([6.24, 1.0, 2.0, 2.0])\n",
    "a_bnds = np.array([1.])\n",
    "## loop to collect data\n",
    "for k in range(num_trials):\n",
    "#     x_t = npr.uniform(low=-s_bnds, high=s_bnds)\n",
    "    x_t = npr.normal(s_bnds*0., s_bnds)\n",
    "    for t in range(horizon):\n",
    "        u_t = npr.normal(0.*a_bnds, a_bnds)\n",
    "        x_tpo = f(x_t, u_t)\n",
    "        u_tpo = u_t\n",
    "\n",
    "        z1 = np.concatenate([z(x_t), v(x_t, u_t)])\n",
    "        z2 = np.concatenate([z(x_tpo), v(x_tpo, u_t)])\n",
    "        _A += np.outer(z2, z1)\n",
    "        _G += np.outer(z1, z1)\n",
    "        \n",
    "        # reset for next loop\n",
    "        x_t = x_tpo\n",
    "        u_t = u_tpo\n",
    "\n",
    "        \n",
    "# _A /= M\n",
    "# _G /= M\n",
    "\n",
    "K = np.dot(_A, np.linalg.pinv(_G, hermitian=True))\n",
    "A = K[:num_x_obs,:num_x_obs]\n",
    "B = K[:num_x_obs, num_x_obs:]\n",
    "\n",
    "# A[np.abs(A)<1e-3] = 0\n",
    "# B[np.abs(B)<1e-3] = 0"
   ]
  },
  {
   "cell_type": "code",
   "execution_count": 7,
   "metadata": {},
   "outputs": [],
   "source": [
    "T = int(1.5*hz)\n",
    "u = [np.zeros(1) for t in range(T)]\n",
    "def update(x, u, A, B):\n",
    "    zt = z(x.copy())\n",
    "    zot = []\n",
    "    for t in range(T):\n",
    "        zt = z(zt[:state_dim])\n",
    "        zot.append(zt.copy())\n",
    "        zt = np.dot(A, zt) + np.dot(B, v(zt[:state_dim], u[t]))\n",
    "    rho = np.zeros_like(zt)\n",
    "    for t in reversed(range(T)):\n",
    "        rho = ldx(zot[t].copy()) + np.dot(A.T, rho)\n",
    "        Beff = np.dot(B, dvdu(zot[t], u[t]))\n",
    "#         u[t] = np.clip(-Rinv.dot(Beff.T.dot(rho)), -1., 1.)\n",
    "        du = Beff.T.dot(rho) + 2.0 * R.dot(u[t])\n",
    "        u[t] = np.clip(u[t] - 0.1 * du, -1, 1)\n",
    "    return u"
   ]
  },
  {
   "cell_type": "code",
   "execution_count": 8,
   "metadata": {},
   "outputs": [
    {
     "name": "stdout",
     "output_type": "stream",
     "text": [
      "[ 3.14   0.     0.084 -0.083]\n",
      "[ 3.824 -1.418 -1.184 -1.542]\n",
      "[ 1.538 -1.014 -0.896  1.882]\n",
      "[ 3.958 -1.037  5.485 -2.059]\n",
      "[ 6.013 -2.001  0.646 -0.237]\n",
      "[ 6.153 -1.976  0.04   0.473]\n",
      "[ 6.224 -1.219  0.048  1.154]\n",
      "[ 6.266 -0.133  0.116  1.463]\n",
      "[6.32  1.005 0.163 1.35 ]\n",
      "[ 6.379  1.772 -0.002  0.417]\n",
      "[ 6.412  1.796  0.026 -0.471]\n",
      "[ 6.376  0.973 -0.044 -1.383]\n",
      "[ 6.324 -0.409 -0.022 -1.81 ]\n",
      "[ 6.171 -2.004 -0.17  -1.635]\n",
      "[ 6.099 -2.743  0.068  0.045]\n",
      "[ 6.133 -2.178  0.123  1.39 ]\n",
      "[ 6.251 -0.664  0.122  2.033]\n",
      "[6.3   0.962 0.11  1.918]\n",
      "[6.444 2.394 0.187 1.252]\n",
      "[ 6.435  2.702 -0.001 -0.279]\n",
      "[ 6.394  1.954  0.026 -1.328]\n",
      "[ 6.314  0.512  0.004 -1.775]\n",
      "[ 6.24  -1.033 -0.114 -1.765]\n",
      "[ 6.132 -2.167  0.067 -0.586]\n",
      "[ 6.136 -2.193  0.066  0.647]\n",
      "[ 6.197 -1.248 -0.029  1.434]\n",
      "[6.233 0.211 0.205 2.123]\n",
      "[6.361 1.875 0.027 1.607]\n",
      "[ 6.396  2.874 -0.044  0.624]\n",
      "[ 6.378  3.039 -0.052 -0.268]\n",
      "[ 6.359  2.557 -0.088 -0.962]\n",
      "[ 6.328  1.615 -0.046 -1.324]\n",
      "[ 6.345  0.434 -0.074 -1.706]\n",
      "[ 6.239 -1.132 -0.208 -1.927]\n",
      "[ 6.19  -2.334 -0.037 -1.015]\n",
      "[ 6.193 -2.8   -0.051 -0.199]\n",
      "[ 6.206 -2.621 -0.047  0.485]\n",
      "[ 6.227 -1.936 -0.081  0.944]\n",
      "[ 6.214 -0.958  0.064  1.443]\n",
      "[6.254 0.379 0.075 1.771]\n",
      "[6.36  1.851 0.208 1.659]\n",
      "[ 6.447  2.695 -0.096  0.146]\n",
      "[ 6.361  2.355 -0.089 -0.817]\n",
      "[ 6.329  1.524 -0.053 -1.199]\n",
      "[ 6.302  0.458 -0.057 -1.37 ]\n",
      "[ 6.28  -0.652 -0.065 -1.329]\n",
      "[ 6.217 -1.682 -0.244 -1.226]\n",
      "[ 6.111 -2.209  0.061  0.195]\n",
      "[ 6.067 -1.591 -0.262  1.252]\n",
      "[6.106 0.461 0.435 3.73 ]\n",
      "[6.459 3.666 0.098 3.136]\n",
      "[ 6.511  5.531 -0.151  1.058]\n",
      "[ 6.451  5.789 -0.093 -0.475]\n",
      "[ 6.397  4.932 -0.08  -1.559]\n",
      "[ 6.351  3.381 -0.121 -2.197]\n",
      "[ 6.307  1.494 -0.16  -2.453]\n",
      "[ 6.224 -0.418 -0.131 -2.114]\n",
      "[ 6.152 -1.814 -0.131 -1.201]\n",
      "[ 6.158 -2.188 -0.146 -0.006]\n",
      "[ 6.206 -1.631  0.173  1.177]\n"
     ]
    }
   ],
   "source": [
    "xt = np.array([3.14, 0., 0., 0.])\n",
    "trajectory = []\n",
    "\n",
    "for t in range(int(50*hz)):\n",
    "    u[:-1] = u[1:]\n",
    "    u[-1] = np.zeros_like(u[-1])\n",
    "    u = update(xt, u, A, B)\n",
    "\n",
    "    u1 = u[0]\n",
    "    xtpo = f(xt, u1)\n",
    "\n",
    "    z1 = np.concatenate([z(xt), v(xt, u1)])\n",
    "    z2 = np.concatenate([z(xtpo), v(xtpo, u1)])\n",
    "    _A += np.outer(z2, z1)\n",
    "    _G += np.outer(z1, z1)\n",
    "    \n",
    "    K = np.dot(_A, np.linalg.pinv(_G, hermitian=True))\n",
    "    A = K[:num_x_obs,:num_x_obs]\n",
    "    B = K[:num_x_obs, num_x_obs:]\n",
    "    \n",
    "    xt = xtpo\n",
    "    \n",
    "    trajectory.append(xt.copy())\n",
    "    if t % 50 == 0:\n",
    "        print(xt)"
   ]
  },
  {
   "cell_type": "code",
   "execution_count": 9,
   "metadata": {},
   "outputs": [
    {
     "data": {
      "image/png": "[encoded data removed]",
      "text/plain": [
       "<Figure size 432x288 with 1 Axes>"
      ]
     },
     "metadata": {
      "needs_background": "light"
     },
     "output_type": "display_data"
    }
   ],
   "source": [
    "import matplotlib.pyplot as plt\n",
    "trajectory = np.stack(trajectory)\n",
    "plt.plot(trajectory[:,0])\n",
    "plt.plot(trajectory[:,1])\n",
    "plt.xlabel('t')\n",
    "plt.ylabel('theta, x')\n",
    "plt.show()"
   ]
  },
  {
   "cell_type": "code",
   "execution_count": null,
   "metadata": {},
   "outputs": [],
   "source": []
  }
 ],
 "metadata": {
  "kernelspec": {
   "display_name": "Python 3",
   "language": "python",
   "name": "python3"
  },
  "language_info": {
   "codemirror_mode": {
    "name": "ipython",
    "version": 3
   },
   "file_extension": ".py",
   "mimetype": "text/x-python",
   "name": "python",
   "nbconvert_exporter": "python",
   "pygments_lexer": "ipython3",
   "version": "3.6.9"
  }
 },
 "nbformat": 4,
 "nbformat_minor": 4
}
