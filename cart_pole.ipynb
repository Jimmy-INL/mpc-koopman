{
 "cells": [
  {
   "cell_type": "code",
   "execution_count": 1,
   "metadata": {},
   "outputs": [],
   "source": [
    "import numpy as np\n",
    "import numpy.random as npr\n",
    "from scipy.linalg import solve_discrete_are"
   ]
  },
  {
   "cell_type": "code",
   "execution_count": 2,
   "metadata": {},
   "outputs": [],
   "source": [
    "np.set_printoptions(precision=3, suppress=True)"
   ]
  },
  {
   "cell_type": "code",
   "execution_count": 3,
   "metadata": {},
   "outputs": [],
   "source": [
    "hz = 60.0\n",
    "_sat = 5.0\n",
    "def f(s, a):\n",
    "    th, x, thdot, xdot = s\n",
    "    sdot = np.array([\n",
    "                thdot, xdot,\n",
    "                9.81*np.sin(th)/1.0+_sat*a[0]*np.cos(th)/1.0-0.2*thdot,\n",
    "                _sat*a[0]-0.1*xdot])\n",
    "    return s + sdot/hz"
   ]
  },
  {
   "cell_type": "code",
   "execution_count": 4,
   "metadata": {},
   "outputs": [],
   "source": [
    "def wrap2Pi(x):\n",
    "    th = np.fmod(x+np.pi, 2.0 * np.pi)\n",
    "    if th < 0:\n",
    "        th = th + 2.0 * np.pi\n",
    "    return th - np.pi\n",
    "\n",
    "Q = np.diag([10., .2, 0., 0.05, 0., 0., 0.])\n",
    "Qf = np.diag([20., 0.2, 0., 0., 0., 0.,0.])\n",
    "R = np.diag([0.01])\n",
    "\n",
    "Rinv = np.linalg.inv(R)\n",
    "\n",
    "def l(x): #loss in z space\n",
    "    x[0] = wrap2Pi(x[0])\n",
    "    return np.dot(x, np.dot(Q, x))\n",
    "\n",
    "def ldx(x):\n",
    "    x[0] = wrap2Pi(x[0])\n",
    "    return 2.*np.dot(Q, x)\n",
    "\n",
    "def m(x): #loss in z space\n",
    "    x[0] = wrap2Pi(x[0])\n",
    "    return np.dot(x, np.dot(Qf, x))\n",
    "\n",
    "def mdx(x):\n",
    "    x[0] = wrap2Pi(x[0])\n",
    "    return 2.*np.dot(Qf, x)\n"
   ]
  },
  {
   "cell_type": "code",
   "execution_count": 5,
   "metadata": {},
   "outputs": [],
   "source": [
    "state_dim = 4\n",
    "action_dim = 1\n",
    "\n",
    "num_x_obs = 7\n",
    "num_u_obs = 2\n",
    "num_obs = num_x_obs + num_u_obs\n",
    "\n",
    "def z(s):\n",
    "    th, x, thdot, xdot = s\n",
    "    return np.array([th, x, thdot, xdot, np.sin(th), np.cos(th), 1.])\n",
    "\n",
    "def v(s, a):\n",
    "    th, x, thdot, xdot = s\n",
    "    return np.array([a[0], np.cos(th) * a[0]])\n",
    "\n",
    "def dvdu(s, a):\n",
    "    return np.array([[1.0, np.cos(s[0])]]).T\n",
    "    "
   ]
  },
  {
   "cell_type": "code",
   "execution_count": 6,
   "metadata": {},
   "outputs": [],
   "source": [
    "npr.seed(0) ## set the seed for reproducibility \n",
    "num_trials = 60 ## number of resets\n",
    "horizon    = 100 ## how long we simulate the system for\n",
    "M = num_trials * horizon ## M sized data\n",
    "\n",
    "_A = np.zeros((num_obs, num_obs))\n",
    "_G = np.zeros((num_obs, num_obs))\n",
    "cnt = 0\n",
    "s_bnds = np.array([6.24, 1.0, 2.0, 2.0])\n",
    "a_bnds = np.array([1.])\n",
    "## loop to collect data\n",
    "for k in range(num_trials):\n",
    "#     x_t = npr.uniform(low=-s_bnds, high=s_bnds)\n",
    "    x_t = npr.normal(s_bnds*0., s_bnds)\n",
    "    for t in range(horizon):\n",
    "        u_t = npr.normal(0.*a_bnds, a_bnds)\n",
    "        x_tpo = f(x_t, u_t)\n",
    "        u_tpo = u_t\n",
    "\n",
    "        z1 = np.concatenate([z(x_t), v(x_t, u_t)])\n",
    "        z2 = np.concatenate([z(x_tpo), v(x_tpo, u_t)])\n",
    "        cnt += 1\n",
    "        _A += np.outer(z2, z1)/cnt\n",
    "        _G += np.outer(z1, z1)/cnt\n",
    "        \n",
    "        # reset for next loop\n",
    "        x_t = x_tpo\n",
    "        u_t = u_tpo\n",
    "\n",
    "        \n",
    "# _A /= M\n",
    "# _G /= M\n",
    "\n",
    "K = np.dot(_A, np.linalg.pinv(_G))\n",
    "A = K[:num_x_obs,:num_x_obs]\n",
    "B = K[:num_x_obs, num_x_obs:]\n",
    "\n",
    "# A[np.abs(A)<1e-3] = 0\n",
    "# B[np.abs(B)<1e-3] = 0"
   ]
  },
  {
   "cell_type": "code",
   "execution_count": 7,
   "metadata": {},
   "outputs": [],
   "source": [
    "T = int(1.5*hz)\n",
    "u = [np.zeros(1) for t in range(T)]\n",
    "def update(x, u, A, B):\n",
    "    zt = z(x.copy())\n",
    "    zot = []\n",
    "    for t in range(T):\n",
    "        zt = z(zt[:state_dim])\n",
    "        zot.append(zt.copy())\n",
    "        zt = np.dot(A, zt) + np.dot(B, v(zt[:state_dim], u[t]))\n",
    "    rho = np.zeros_like(zt)\n",
    "    for t in reversed(range(T)):\n",
    "        rho = ldx(zot[t].copy()) + np.dot(A.T, rho)\n",
    "        Beff = np.dot(B, dvdu(zot[t], u[t]))\n",
    "#         u[t] = np.clip(-Rinv.dot(Beff.T.dot(rho)), -1., 1.)\n",
    "        du = Beff.T.dot(rho) + 2.0 * R.dot(u[t])\n",
    "        u[t] = np.clip(u[t] - 0.1 * du, -1, 1)\n",
    "    return u"
   ]
  },
  {
   "cell_type": "code",
   "execution_count": 8,
   "metadata": {},
   "outputs": [
    {
     "name": "stdout",
     "output_type": "stream",
     "text": [
      "[ 3.14   0.    -0.059  0.059]\n",
      "[ 4.029 -1.61   0.604 -3.846]\n",
      "[ 1.811 -3.037 -3.009  0.455]\n",
      "[ 2.758 -1.267  5.289  2.111]\n",
      "[ 5.97  -0.595  1.124  0.46 ]\n",
      "[ 6.371 -0.344  0.044 -0.171]\n",
      "[ 6.379 -0.816  0.002 -0.939]\n",
      "[ 6.355 -1.915 -0.12  -1.721]\n",
      "[ 6.273 -3.441 -0.184 -1.956]\n",
      "[ 6.224 -4.814 -0.009 -1.36 ]\n",
      "[ 6.219 -5.722 -0.042 -0.855]\n",
      "[ 6.225 -6.171  0.076 -0.213]\n",
      "[ 6.255 -6.214  0.077  0.17 ]\n",
      "[ 6.248 -6.038  0.035  0.395]\n",
      "[ 6.256 -5.648 -0.066  0.489]\n",
      "[ 6.303 -5.107  0.034  0.597]\n",
      "[ 6.284 -4.778 -0.02   0.284]\n",
      "[ 6.266 -4.519  0.037  0.425]\n",
      "[ 6.278 -4.139  0.133  0.62 ]\n",
      "[ 6.336 -3.756  0.112  0.318]\n",
      "[ 6.339 -3.748  0.127 -0.055]\n",
      "[ 6.339 -4.104 -0.011 -0.679]\n",
      "[ 6.293 -4.823 -0.054 -0.921]\n",
      "[ 6.224 -5.557 -0.12  -0.734]\n",
      "[ 6.237 -5.847 -0.018 -0.179]\n",
      "[ 6.252 -5.818 -0.03   0.155]\n",
      "[ 6.25  -5.566  0.029  0.458]\n",
      "[ 6.274 -5.113 -0.019  0.558]\n",
      "[ 6.287 -4.614  0.022  0.604]\n",
      "[ 6.355 -4.159  0.04   0.285]\n",
      "[ 6.341 -4.188 -0.043 -0.309]\n",
      "[ 6.301 -4.568 -0.007 -0.522]\n",
      "[ 6.254 -5.027 -0.093 -0.501]\n",
      "[ 6.247 -5.253 -0.013 -0.132]\n",
      "[ 6.246 -5.231  0.008  0.186]\n",
      "[ 6.257 -4.972  0.03   0.434]\n",
      "[ 6.266 -4.582 -0.017  0.489]\n",
      "[ 6.287 -4.11   0.022  0.581]\n",
      "[ 6.327 -3.695  0.098  0.378]\n",
      "[ 6.363 -3.629  0.045 -0.222]\n",
      "[ 6.316 -4.128 -0.05  -0.821]\n",
      "[ 6.293 -4.84  -0.056 -0.913]\n",
      "[ 6.242 -5.597 -0.04  -0.819]\n",
      "[ 6.219 -6.074 -0.026 -0.312]\n",
      "[ 6.233 -6.1    0.141  0.318]\n",
      "[ 6.253 -5.81   0.002  0.444]\n",
      "[ 6.261 -5.374 -0.009  0.556]\n",
      "[ 6.294 -4.839  0.092  0.679]\n",
      "[ 6.334 -4.426 -0.058  0.171]\n",
      "[ 6.268 -4.386 -0.035  0.076]\n",
      "[ 6.263 -4.242 -0.031  0.228]\n",
      "[ 6.323 -3.961  0.089  0.284]\n",
      "[ 6.283 -3.961 -0.079 -0.101]\n",
      "[ 6.284 -3.95  -0.003  0.048]\n",
      "[ 6.329 -3.906 -0.04  -0.175]\n",
      "[ 6.271 -4.142 -0.095 -0.31 ]\n",
      "[ 6.272 -4.266 -0.064 -0.158]\n",
      "[ 6.286 -4.299 -0.027 -0.07 ]\n",
      "[ 6.319 -4.327 -0.07  -0.219]\n",
      "[ 6.274 -4.548  0.002 -0.214]\n"
     ]
    }
   ],
   "source": [
    "xt = np.array([3.14, 0., 0., 0.])\n",
    "\n",
    "trajectory = []\n",
    "\n",
    "for t in range(int(50*hz)):\n",
    "    u[:-1] = u[1:]\n",
    "    u[-1] = np.zeros_like(u[-1])\n",
    "    u = update(xt, u, A, B)\n",
    "\n",
    "    u1 = u[0]\n",
    "    xtpo = f(xt, u1)\n",
    "\n",
    "    z1 = np.concatenate([z(xt), v(xt, u1)])\n",
    "    z2 = np.concatenate([z(xtpo), v(xtpo, u1)])\n",
    "    cnt +=1 \n",
    "    _A += np.outer(z2, z1)/cnt\n",
    "    _G += np.outer(z1, z1)/cnt\n",
    "    \n",
    "    K = np.dot(_A, np.linalg.pinv(_G))\n",
    "    A = K[:num_x_obs,:num_x_obs]\n",
    "    B = K[:num_x_obs, num_x_obs:]\n",
    "    \n",
    "    xt = xtpo\n",
    "    \n",
    "    trajectory.append(xt.copy())\n",
    "    if t % 50 == 0:\n",
    "        print(xt)"
   ]
  },
  {
   "cell_type": "code",
   "execution_count": 9,
   "metadata": {},
   "outputs": [
    {
     "data": {
      "image/png": "[encoded data removed]",
      "text/plain": [
       "<Figure size 432x288 with 1 Axes>"
      ]
     },
     "metadata": {
      "needs_background": "light"
     },
     "output_type": "display_data"
    }
   ],
   "source": [
    "import matplotlib.pyplot as plt\n",
    "trajectory = np.stack(trajectory)\n",
    "plt.plot(trajectory[:,0])\n",
    "plt.plot(trajectory[:,1])\n",
    "plt.xlabel('t')\n",
    "plt.ylabel('theta, x')\n",
    "plt.show()"
   ]
  },
  {
   "cell_type": "code",
   "execution_count": null,
   "metadata": {},
   "outputs": [],
   "source": []
  }
 ],
 "metadata": {
  "kernelspec": {
   "display_name": "Python 3",
   "language": "python",
   "name": "python3"
  },
  "language_info": {
   "codemirror_mode": {
    "name": "ipython",
    "version": 3
   },
   "file_extension": ".py",
   "mimetype": "text/x-python",
   "name": "python",
   "nbconvert_exporter": "python",
   "pygments_lexer": "ipython3",
   "version": "3.6.9"
  }
 },
 "nbformat": 4,
 "nbformat_minor": 4
}
