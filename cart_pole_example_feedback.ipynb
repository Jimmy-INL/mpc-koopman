{
 "cells": [
  {
   "cell_type": "code",
   "execution_count": 1,
   "metadata": {
    "ExecuteTime": {
     "end_time": "2019-04-17T19:01:34.488654Z",
     "start_time": "2019-04-17T19:01:34.402294Z"
    }
   },
   "outputs": [],
   "source": [
    "from jax.config import config\n",
    "# config.update(\"jax_enable_x64\", True)\n",
    "\n",
    "import jax.numpy as np\n",
    "import numpy.random as npr\n",
    "\n",
    "from jax import jacfwd, grad, jit, partial\n",
    "from jax.lax import scan\n",
    "from jax.ops import index, index_add, index_update\n",
    "from scipy.linalg import logm\n",
    "import scipy.linalg"
   ]
  },
  {
   "cell_type": "code",
   "execution_count": 16,
   "metadata": {
    "ExecuteTime": {
     "end_time": "2019-04-17T19:01:35.564909Z",
     "start_time": "2019-04-17T19:01:35.561202Z"
    }
   },
   "outputs": [],
   "source": [
    "state_dim = 4\n",
    "action_dim = 1\n",
    "num_x_obs = 7\n",
    "num_u_obs = 2\n",
    "num_obs = num_x_obs + num_u_obs\n",
    "\n",
    "@jit\n",
    "def f(s, a):\n",
    "    th, x, thdot, xdot = s\n",
    "    sdot = np.array([\n",
    "                thdot, xdot, \n",
    "                9.81*np.sin(th)/1.0+a[0]*np.cos(th)/1.0-0.2*thdot,\n",
    "                a[0]])\n",
    "    return s + sdot/60.\n",
    "@jit\n",
    "def z(s):\n",
    "    th, x, thdot, xdot = s\n",
    "    return np.array([th, x, thdot, xdot, np.sin(th), np.cos(thdot), 1.0])\n",
    "@jit\n",
    "def v(z, u):\n",
    "    th, x, thdot, xdot = z[:state_dim]\n",
    "    return np.array([u[0] * np.cos(th), u[0]])\n"
   ]
  },
  {
   "cell_type": "markdown",
   "metadata": {},
   "source": [
    "Provided a data set $\\mathcal{D} = \\{(x(t_m), u(t_m), x(t_{m+1}), u(t_{m+1})) \\}_{m=0}^{M-1}$, we can compute the approximate Koopman operator $\\mathfrak{K}$ using least-squares minimization over the matrix $\\mathfrak{K}$:\n",
    "$$\n",
    "    \\min_{\\mathfrak{K}} \\frac{1}{2 M} \\sum_{m=0}^{M-1} \\Vert z(x(t_{m+1}), u(t_{m+1})) - \\mathfrak{K} z(x(t_m), u(t_m)) \\Vert^2.\n",
    "$$\n",
    "Since this optimization is convex in $\\mathfrak{K}$, the solution is given by\n",
    "$$\n",
    "    \\mathfrak{K} = A G^\\dagger\n",
    "$$        \n",
    "where $\\dagger$ denotes the Moore-Penrose pseudoinverse and\n",
    "$$\n",
    "A = \\frac{1}{M} \\sum_{m=0}^{M-1} z(x(t_{m+1}), u(t_{m+1})) z(x(t_m), u(t_m))^\\top, \\\\\n",
    "            G = \\frac{1}{M} \\sum_{m=0}^{M-1} z(x(t_m), u(t_m)) z(x(t_m), u(t_m))^\\top .\n",
    "$$\n",
    "The continuous time operator is then given by $\\log(\\mathfrak{K})/t_s$.\n",
    "Note that we can solve the optimization using gradient descent methods or other\n",
    "optimization methods.\n",
    "\n",
    "In the next cell, we will collect some data and learn a Koopman operator for the functions of state described previously."
   ]
  },
  {
   "cell_type": "code",
   "execution_count": 18,
   "metadata": {},
   "outputs": [],
   "source": [
    "def wrap2Pi(th):\n",
    "    th = np.fmod(th+np.pi, 2.0 * np.pi)\n",
    "    if th < 0:\n",
    "        th = th + 2.0 * np.pi\n",
    "    return th - np.pi\n",
    "\n",
    "def ell(z):\n",
    "    th, x, thdot, xdot = z[:state_dim]\n",
    "    return -80.*np.cos(th) + 0.1 * (x**4) + 0.1*(np.square(thdot) + np.square(xdot)) \n",
    "\n"
   ]
  },
  {
   "cell_type": "markdown",
   "metadata": {},
   "source": [
    "### Collect data for learning linear embedded model"
   ]
  },
  {
   "cell_type": "code",
   "execution_count": 4,
   "metadata": {
    "ExecuteTime": {
     "end_time": "2019-04-17T19:01:36.951096Z",
     "start_time": "2019-04-17T19:01:36.663506Z"
    }
   },
   "outputs": [
    {
     "name": "stderr",
     "output_type": "stream",
     "text": [
      "/home/burn/.local/lib/python3.6/site-packages/jax/lib/xla_bridge.py:122: UserWarning: No GPU/TPU found, falling back to CPU.\n",
      "  warnings.warn('No GPU/TPU found, falling back to CPU.')\n"
     ]
    }
   ],
   "source": [
    "npr.seed(0) ## set the seed for reproducibility \n",
    "num_trials = 600 ## number of resets\n",
    "horizon    = 10 ## how long we simulate the system for\n",
    "M = num_trials * horizon ## M sized data\n",
    "\n",
    "_A = np.zeros((num_obs, num_obs))\n",
    "_G = np.zeros((num_obs, num_obs))\n",
    "\n",
    "s_bnds = np.array([6.24, 2.0, 6.0, 1.0])\n",
    "a_bnds = np.array([6.8])\n",
    "## loop to collect data\n",
    "for k in range(num_trials):\n",
    "#     x_t = npr.uniform(low=-s_bnds, high=s_bnds)\n",
    "    x_t = npr.normal(s_bnds*0., s_bnds)\n",
    "    for t in range(horizon):\n",
    "        u_t = npr.normal(0.*a_bnds, a_bnds)\n",
    "        x_tpo = f(x_t, u_t)\n",
    "        u_tpo = u_t\n",
    "\n",
    "        z1 = np.concatenate([z(x_t), v(x_t, u_t)])\n",
    "        z2 = np.concatenate([z(x_tpo), v(x_tpo, u_t)])\n",
    "        _A += np.outer(z2, z1)\n",
    "        _G += np.outer(z1, z1)\n",
    "        \n",
    "        # reset for next loop\n",
    "        x_t = x_tpo\n",
    "        u_t = u_tpo\n",
    "\n",
    "\n",
    "\n",
    "        \n",
    "_A /= M\n",
    "_G /= M\n",
    "\n",
    "koopman_operator = np.dot(_A, np.linalg.pinv(_G))"
   ]
  },
  {
   "cell_type": "markdown",
   "metadata": {},
   "source": [
    "Extract out the A and B matrices"
   ]
  },
  {
   "cell_type": "code",
   "execution_count": 5,
   "metadata": {},
   "outputs": [],
   "source": [
    "A = koopman_operator[:num_x_obs,:num_x_obs]\n",
    "B = koopman_operator[:num_x_obs, num_x_obs:]"
   ]
  },
  {
   "cell_type": "code",
   "execution_count": 6,
   "metadata": {},
   "outputs": [],
   "source": [
    "class Planner(object):\n",
    "    \n",
    "    def __init__(self,T):\n",
    "        self.T = T\n",
    "        self.dldz = jit(grad(ell))\n",
    "        self.dvdu = jit(jacfwd(v, argnums=1))\n",
    "        self.u = [np.zeros(action_dim) for t in range(self.T-1)]\n",
    "    def update(self, z0):\n",
    "        zt = z0\n",
    "        z = []\n",
    "        for t in range(self.T-1):\n",
    "            z.append(zt)\n",
    "            zt = np.dot(A, zt) + np.dot(B, v(zt, self.u[t]))\n",
    "        rho = np.zeros_like(zt)\n",
    "        for t in reversed(range(self.T-1)):\n",
    "            rho = self.dldz(z[t]) + np.dot(A.T, rho)\n",
    "            Beff = np.dot(B, self.dvdu(z[t], self.u[t]))\n",
    "            self.u[t] = np.clip(- np.dot(Beff.T, rho), -4.8, 4.8)\n",
    "        u_out = self.u[0]\n",
    "        self.u[0:-1] = self.u[1:]\n",
    "        self.u[-1] = np.zeros_like(self.u[-1])\n",
    "        return u_out\n",
    "planner = Planner(int(1.*60))\n",
    "            "
   ]
  },
  {
   "cell_type": "code",
   "execution_count": 20,
   "metadata": {},
   "outputs": [],
   "source": [
    "def sim_step(zt, i, K, A, B):\n",
    "    u = np.dot(K, zt)\n",
    "    zn = np.dot(A, zt) + np.dot(B, v(zt, u))\n",
    "    return zn, ell(zn) + 1e-3*np.dot(u, u)\n",
    "# control objective\n",
    "def J(x0, K, A, B, T):   \n",
    "    zf, lt = scan(partial(sim_step, A=A, B=B, K=K), z(x0), None, length=T)\n",
    "    return np.sum(lt) + ell(zf)\n",
    "# contro updater\n",
    "dJ = jit(grad(J, argnums=1), static_argnums=4)\n",
    "def replan(x0, K, A, B, T):\n",
    "    dK = dJ(x0, K, A, B, T)\n",
    "    return K - .001* dK"
   ]
  },
  {
   "cell_type": "markdown",
   "metadata": {},
   "source": [
    "Here we calculate the continuous time Koopman operator.\n",
    "\n",
    "For optimal control with the Koopman operator, we split $\\mathfrak{K}$ into the free dynamics $A$ and dynamic actuation matrix $B$. \n",
    "\n",
    "Since the Koopman operator representation of the dynamical system is linear, we can directly apply LQR control."
   ]
  },
  {
   "cell_type": "code",
   "execution_count": 21,
   "metadata": {},
   "outputs": [
    {
     "data": {
      "text/plain": [
       "DeviceArray([[1.000001, 0.      , 0.016667, 0.      , 0.      , 0.      ,\n",
       "              0.      ],\n",
       "             [0.      , 1.      , 0.      , 0.016665, 0.      , 0.      ,\n",
       "              0.      ],\n",
       "             [0.      , 0.      , 0.996666, 0.      , 0.163504, 0.      ,\n",
       "              0.      ],\n",
       "             [0.      , 0.      , 0.      , 1.      , 0.      , 0.      ,\n",
       "              0.      ],\n",
       "             [0.      , 0.00171 , 0.001295, 0.001095, 0.996943, 0.005499,\n",
       "              0.002179],\n",
       "             [0.      , 0.      , 0.      , 0.      , 0.008947, 0.990818,\n",
       "              0.001168],\n",
       "             [0.      , 0.      , 0.      , 0.      , 0.      , 0.      ,\n",
       "              1.      ]], dtype=float32)"
      ]
     },
     "execution_count": 21,
     "metadata": {},
     "output_type": "execute_result"
    }
   ],
   "source": [
    "np.abs(A)"
   ]
  },
  {
   "cell_type": "code",
   "execution_count": 9,
   "metadata": {},
   "outputs": [],
   "source": [
    "np.set_printoptions(precision=6, suppress=True)"
   ]
  },
  {
   "cell_type": "markdown",
   "metadata": {},
   "source": [
    "Note that the augmented state observables show up in the linear dynamics embedding as part of the update equation $z_{t+1} = Az_t + Bv_t$"
   ]
  },
  {
   "cell_type": "code",
   "execution_count": 22,
   "metadata": {},
   "outputs": [
    {
     "data": {
      "text/plain": [
       "DeviceArray([[ 0.      ,  0.      ],\n",
       "             [ 0.      ,  0.      ],\n",
       "             [ 0.016667,  0.      ],\n",
       "             [ 0.      ,  0.016667],\n",
       "             [ 0.      ,  0.      ],\n",
       "             [-0.001354,  0.      ],\n",
       "             [ 0.      ,  0.      ]], dtype=float32)"
      ]
     },
     "execution_count": 22,
     "metadata": {},
     "output_type": "execute_result"
    }
   ],
   "source": [
    "B"
   ]
  },
  {
   "cell_type": "code",
   "execution_count": 11,
   "metadata": {},
   "outputs": [],
   "source": [
    "A = index_update(A, np.abs(A)<1e-3, 0.)"
   ]
  },
  {
   "cell_type": "code",
   "execution_count": 12,
   "metadata": {},
   "outputs": [],
   "source": [
    "B = index_update(B, np.abs(B)<1e-3, 0.)"
   ]
  },
  {
   "cell_type": "markdown",
   "metadata": {},
   "source": [
    "The controller can then be tested on the true actuated dynamical system."
   ]
  },
  {
   "cell_type": "code",
   "execution_count": 23,
   "metadata": {
    "ExecuteTime": {
     "end_time": "2019-04-17T19:01:40.792304Z",
     "start_time": "2019-04-17T19:01:40.743470Z"
    }
   },
   "outputs": [
    {
     "name": "stdout",
     "output_type": "stream",
     "text": [
      "[-2.883186  0.       -0.119125  0.08    ]\n",
      "[ 3.027926  0.271353 -1.567598  1.193495]\n",
      "[ 2.875401  0.415851  0.8274   -0.406505]\n",
      "[-2.900719  0.101683  1.180313 -0.726505]\n",
      "[-2.908857  0.112848 -1.332163  0.873495]\n",
      "[ 2.811176  0.510679 -0.92862   0.713495]\n",
      "[ 2.924721  0.495178  1.670138 -0.886505]\n",
      "[-2.766197  0.154343  0.80169  -0.406505]\n",
      "[-2.932232  0.272174 -1.838214  1.193495]\n",
      "[ 2.755091  0.671378 -0.738774  0.531806]\n",
      "[ 2.94308   0.595313  1.897512 -1.068194]\n",
      "[-2.724758  0.228582  0.752484 -0.428194]\n",
      "[-2.919284  0.339184 -1.952761  1.171806]\n",
      "[ 2.755641  0.702489 -0.760168  0.404105]\n",
      "[ 2.937301  0.583857  1.88416  -1.195895]\n",
      "[-2.73173   0.174559  0.759223 -0.555895]\n",
      "[-2.92194   0.242594 -1.934527  1.044105]\n",
      "[ 2.739576  0.58585  -0.797105  0.357163]\n",
      "[ 2.916198  0.451571  1.896448 -1.242837]\n",
      "[-2.707894 -0.008041  0.944332 -0.762837]\n",
      "[-2.852601 -0.008987 -1.873568  0.837163]\n",
      "[ 2.76097   0.303099 -1.062065  0.316937]\n",
      "[ 2.853922  0.155412  1.697863 -1.283063]\n",
      "[-2.740553 -0.378943  1.256129 -1.123063]\n",
      "[-2.784134 -0.499964 -1.621356  0.476937]\n",
      "[ 2.761998 -0.192669 -1.616737  0.579234]\n",
      "[ 2.693598 -0.252925  1.356103 -1.020766]\n",
      "[-2.842126 -0.790513  2.043213 -1.500767]\n",
      "[-2.622997 -1.037436 -0.935471  0.099234]\n",
      "[ 2.986171 -0.789143 -2.28207   0.871457]\n"
     ]
    }
   ],
   "source": [
    "x_t = np.array([3.4, 0., 0., 0.])\n",
    "horizon = int(1.5 * 60) # simulation time\n",
    "K = np.zeros((1, num_x_obs))\n",
    "trajectory = []\n",
    "\n",
    "for t in range(int(10*60)):\n",
    "    for _ in range(1):\n",
    "        K = replan(x_t, K, A, B, horizon)\n",
    "    u = np.clip(np.dot(K, z(x_t)), -4.8, 4.8)\n",
    "#     u = planner.update(z(x_t))\n",
    "    x_tpo = f(x_t,u)\n",
    "    \n",
    "    x_t = x_tpo\n",
    "    x_t = index_update(x_t, index[0], wrap2Pi(x_t[0]))\n",
    "    trajectory.append(x_t)\n",
    "    if t %  20 == 0:\n",
    "        print(x_t)"
   ]
  },
  {
   "cell_type": "markdown",
   "metadata": {},
   "source": [
    "Here we visualize the resulting trajectory from applying a model-based controller using the Koopman operator representation of the dynamical system."
   ]
  },
  {
   "cell_type": "code",
   "execution_count": 24,
   "metadata": {
    "ExecuteTime": {
     "end_time": "2019-04-17T19:01:46.496016Z",
     "start_time": "2019-04-17T19:01:46.381919Z"
    }
   },
   "outputs": [
    {
     "data": {
      "image/png": "[encoded data removed]",
      "text/plain": [
       "<Figure size 432x288 with 1 Axes>"
      ]
     },
     "metadata": {
      "needs_background": "light"
     },
     "output_type": "display_data"
    }
   ],
   "source": [
    "import matplotlib.pyplot as plt\n",
    "trajectory = np.stack(trajectory)\n",
    "plt.plot(trajectory[:,0])\n",
    "plt.plot(trajectory[:,1])\n",
    "plt.xlabel('t')\n",
    "plt.ylabel('theta, x')\n",
    "plt.show()"
   ]
  },
  {
   "cell_type": "code",
   "execution_count": null,
   "metadata": {},
   "outputs": [],
   "source": []
  },
  {
   "cell_type": "code",
   "execution_count": null,
   "metadata": {},
   "outputs": [],
   "source": []
  }
 ],
 "metadata": {
  "kernelspec": {
   "display_name": "Python 3",
   "language": "python",
   "name": "python3"
  },
  "language_info": {
   "codemirror_mode": {
    "name": "ipython",
    "version": 3
   },
   "file_extension": ".py",
   "mimetype": "text/x-python",
   "name": "python",
   "nbconvert_exporter": "python",
   "pygments_lexer": "ipython3",
   "version": "3.6.9"
  },
  "toc": {
   "base_numbering": 1,
   "nav_menu": {},
   "number_sections": true,
   "sideBar": true,
   "skip_h1_title": true,
   "title_cell": "Table of Contents",
   "title_sidebar": "Contents",
   "toc_cell": false,
   "toc_position": {},
   "toc_section_display": true,
   "toc_window_display": false
  }
 },
 "nbformat": 4,
 "nbformat_minor": 4
}
