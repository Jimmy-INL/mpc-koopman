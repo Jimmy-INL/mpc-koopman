{
 "cells": [
  {
   "cell_type": "code",
   "execution_count": 1,
   "metadata": {
    "ExecuteTime": {
     "end_time": "2019-04-17T19:01:34.488654Z",
     "start_time": "2019-04-17T19:01:34.402294Z"
    }
   },
   "outputs": [],
   "source": [
    "from jax.config import config\n",
    "# config.update(\"jax_enable_x64\", True)\n",
    "\n",
    "import jax.numpy as np\n",
    "import numpy.random as npr\n",
    "\n",
    "from jax import jacfwd, grad, jit, partial\n",
    "from jax.lax import scan\n",
    "from jax.ops import index, index_add, index_update\n",
    "from scipy.linalg import logm\n",
    "import scipy.linalg"
   ]
  },
  {
   "cell_type": "code",
   "execution_count": 2,
   "metadata": {
    "ExecuteTime": {
     "end_time": "2019-04-17T19:01:35.564909Z",
     "start_time": "2019-04-17T19:01:35.561202Z"
    }
   },
   "outputs": [],
   "source": [
    "state_dim = 4\n",
    "num_x_obs = 7\n",
    "num_u_obs = 2\n",
    "num_obs = num_x_obs + num_u_obs\n",
    "\n",
    "@jit\n",
    "def f(s, a):\n",
    "    th, x, thdot, xdot = s\n",
    "    sdot = np.array([\n",
    "                thdot, xdot, \n",
    "                9.81*np.sin(th)/2.0+a[0]*np.cos(th)/2.0-0.2*thdot,\n",
    "                a[0]])\n",
    "    return s + sdot/60.\n",
    "@jit\n",
    "def z(s):\n",
    "    th, x, thdot, xdot = s\n",
    "    return np.array([th, x, thdot, xdot, np.sin(th), np.cos(th), 1.0])\n",
    "@jit\n",
    "def v(z, u):\n",
    "    th, x, thdot, xdot = z[:state_dim]\n",
    "    return np.array([u[0] * np.cos(th), u[0]])\n"
   ]
  },
  {
   "cell_type": "markdown",
   "metadata": {},
   "source": [
    "Provided a data set $\\mathcal{D} = \\{(x(t_m), u(t_m), x(t_{m+1}), u(t_{m+1})) \\}_{m=0}^{M-1}$, we can compute the approximate Koopman operator $\\mathfrak{K}$ using least-squares minimization over the matrix $\\mathfrak{K}$:\n",
    "$$\n",
    "    \\min_{\\mathfrak{K}} \\frac{1}{2 M} \\sum_{m=0}^{M-1} \\Vert z(x(t_{m+1}), u(t_{m+1})) - \\mathfrak{K} z(x(t_m), u(t_m)) \\Vert^2.\n",
    "$$\n",
    "Since this optimization is convex in $\\mathfrak{K}$, the solution is given by\n",
    "$$\n",
    "    \\mathfrak{K} = A G^\\dagger\n",
    "$$        \n",
    "where $\\dagger$ denotes the Moore-Penrose pseudoinverse and\n",
    "$$\n",
    "A = \\frac{1}{M} \\sum_{m=0}^{M-1} z(x(t_{m+1}), u(t_{m+1})) z(x(t_m), u(t_m))^\\top, \\\\\n",
    "            G = \\frac{1}{M} \\sum_{m=0}^{M-1} z(x(t_m), u(t_m)) z(x(t_m), u(t_m))^\\top .\n",
    "$$\n",
    "The continuous time operator is then given by $\\log(\\mathfrak{K})/t_s$.\n",
    "Note that we can solve the optimization using gradient descent methods or other\n",
    "optimization methods.\n",
    "\n",
    "In the next cell, we will collect some data and learn a Koopman operator for the functions of state described previously."
   ]
  },
  {
   "cell_type": "code",
   "execution_count": 3,
   "metadata": {},
   "outputs": [],
   "source": [
    "def wrap2Pi(th):\n",
    "    th = np.fmod(th+np.pi, 2.0 * np.pi)\n",
    "    if th < 0:\n",
    "        th = th + 2.0 * np.pi\n",
    "    return th - np.pi\n",
    "\n",
    "def ell(z):\n",
    "    th, x, thdot, xdot = z[:state_dim]\n",
    "    return -80.*np.cos(th) + 0.1 * (x**4) + 0.1*(np.square(thdot) + np.square(xdot)) \n",
    "\n"
   ]
  },
  {
   "cell_type": "code",
   "execution_count": 4,
   "metadata": {
    "ExecuteTime": {
     "end_time": "2019-04-17T19:01:36.951096Z",
     "start_time": "2019-04-17T19:01:36.663506Z"
    }
   },
   "outputs": [
    {
     "name": "stderr",
     "output_type": "stream",
     "text": [
      "/home/burn/.local/lib/python3.6/site-packages/jax/lib/xla_bridge.py:122: UserWarning: No GPU/TPU found, falling back to CPU.\n",
      "  warnings.warn('No GPU/TPU found, falling back to CPU.')\n"
     ]
    }
   ],
   "source": [
    "npr.seed(0) ## set the seed for reproducibility \n",
    "num_trials = 600 ## number of resets\n",
    "horizon    = 10 ## how long we simulate the system for\n",
    "M = num_trials * horizon ## M sized data\n",
    "\n",
    "_A = np.zeros((num_obs, num_obs))\n",
    "_G = np.zeros((num_obs, num_obs))\n",
    "\n",
    "s_bnds = np.array([6.24, 2.0, 6.0, 1.0])\n",
    "a_bnds = np.array([4.8])\n",
    "## loop to collect data\n",
    "for k in range(num_trials):\n",
    "#     x_t = npr.uniform(low=-s_bnds, high=s_bnds)\n",
    "    x_t = npr.normal(s_bnds*0., s_bnds)\n",
    "    for t in range(horizon):\n",
    "        u_t = npr.normal(0.*a_bnds, a_bnds)\n",
    "        x_tpo = f(x_t, u_t)\n",
    "        u_tpo = u_t\n",
    "\n",
    "        z1 = np.concatenate([z(x_t), v(x_t, u_t)])\n",
    "        z2 = np.concatenate([z(x_tpo), v(x_tpo, u_t)])\n",
    "        _A += np.outer(z2, z1)\n",
    "        _G += np.outer(z1, z1)\n",
    "        \n",
    "        # reset for next loop\n",
    "        x_t = x_tpo\n",
    "        u_t = u_tpo\n",
    "_A /= M\n",
    "_G /= M\n",
    "\n",
    "koopman_operator = np.dot(_A, np.linalg.pinv(_G))"
   ]
  },
  {
   "cell_type": "markdown",
   "metadata": {},
   "source": [
    "Extract out the A and B matrices"
   ]
  },
  {
   "cell_type": "code",
   "execution_count": 5,
   "metadata": {},
   "outputs": [],
   "source": [
    "A = koopman_operator[:num_x_obs,:num_x_obs]\n",
    "B = koopman_operator[:num_x_obs, num_x_obs:]"
   ]
  },
  {
   "cell_type": "code",
   "execution_count": 6,
   "metadata": {},
   "outputs": [],
   "source": [
    "def sim_step(z, i, K, A, B):\n",
    "    u = np.dot(K, z)\n",
    "    zn = np.dot(A, z) + np.dot(B, v(z, u))\n",
    "    return zn, ell(zn)\n",
    "# control objective\n",
    "def J(x0, K, A, B, T):   \n",
    "    zf, lt = scan(partial(sim_step, A=A, B=B, K=K), z(x0), None, length=T)\n",
    "    return np.sum(lt) + ell(zf)\n",
    "# contro updater\n",
    "dJ = jit(grad(J, argnums=1), static_argnums=4)\n",
    "def replan(x0, K, A, B, T):\n",
    "    dK = dJ(x0, K, A, B, T)\n",
    "    return K - 0.001* dK"
   ]
  },
  {
   "cell_type": "markdown",
   "metadata": {},
   "source": [
    "Here we calculate the continuous time Koopman operator."
   ]
  },
  {
   "cell_type": "markdown",
   "metadata": {},
   "source": [
    "For optimal control with the Koopman operator, we split $\\mathfrak{K}$ into the free dynamics $A$ and dynamic actuation matrix $B$. "
   ]
  },
  {
   "cell_type": "markdown",
   "metadata": {
    "ExecuteTime": {
     "end_time": "2019-04-16T16:04:20.527780Z",
     "start_time": "2019-04-16T16:04:20.521669Z"
    }
   },
   "source": [
    "Since the Koopman operator representation of the dynamical system is linear, we can directly apply LQR control."
   ]
  },
  {
   "cell_type": "code",
   "execution_count": 7,
   "metadata": {},
   "outputs": [],
   "source": [
    "np.set_printoptions(precision=3, suppress=True)"
   ]
  },
  {
   "cell_type": "markdown",
   "metadata": {},
   "source": [
    "Note that the augmented state observables show up in the linear dynamics embedding as part of the update equation $z_{t+1} = Az_t + Bv_t$"
   ]
  },
  {
   "cell_type": "code",
   "execution_count": 8,
   "metadata": {},
   "outputs": [
    {
     "data": {
      "text/plain": [
       "DeviceArray([[ 1.   , -0.   ,  0.017,  0.   , -0.   ,  0.   , -0.   ],\n",
       "             [-0.   ,  1.   ,  0.   ,  0.017, -0.   ,  0.   ,  0.   ],\n",
       "             [-0.   , -0.   ,  0.997, -0.   ,  0.082,  0.   , -0.   ],\n",
       "             [-0.   ,  0.   , -0.   ,  1.   ,  0.   , -0.   , -0.   ],\n",
       "             [ 0.   ,  0.002, -0.001, -0.001,  0.997,  0.006, -0.002],\n",
       "             [-0.   , -0.003,  0.   ,  0.001, -0.003,  0.994, -0.005],\n",
       "             [ 0.   ,  0.   ,  0.   , -0.   ,  0.   , -0.   ,  1.   ]],            dtype=float32)"
      ]
     },
     "execution_count": 8,
     "metadata": {},
     "output_type": "execute_result"
    }
   ],
   "source": [
    "A"
   ]
  },
  {
   "cell_type": "code",
   "execution_count": 9,
   "metadata": {},
   "outputs": [
    {
     "data": {
      "text/plain": [
       "DeviceArray([[-0.   ,  0.   ],\n",
       "             [ 0.   , -0.   ],\n",
       "             [ 0.008,  0.   ],\n",
       "             [ 0.   ,  0.017],\n",
       "             [ 0.   ,  0.   ],\n",
       "             [ 0.   ,  0.   ],\n",
       "             [ 0.   ,  0.   ]], dtype=float32)"
      ]
     },
     "execution_count": 9,
     "metadata": {},
     "output_type": "execute_result"
    }
   ],
   "source": [
    "B"
   ]
  },
  {
   "cell_type": "markdown",
   "metadata": {},
   "source": [
    "The controller can then be tested on the true actuated dynamical system."
   ]
  },
  {
   "cell_type": "code",
   "execution_count": 10,
   "metadata": {
    "ExecuteTime": {
     "end_time": "2019-04-17T19:01:40.792304Z",
     "start_time": "2019-04-17T19:01:40.743470Z"
    }
   },
   "outputs": [
    {
     "name": "stdout",
     "output_type": "stream",
     "text": [
      "[-2.883  0.    -0.038  0.036]\n",
      "[-3.084  0.283 -1.276  1.982]\n",
      "[ 2.748  1.064 -1.422  2.979]\n",
      "[ 2.392  2.105 -0.15   2.134]\n",
      "[ 2.829  1.952  2.763 -3.014]\n",
      "[-2.334  0.468  3.527 -5.76 ]\n",
      "[-1.391 -1.461  1.937 -4.57 ]\n",
      "[-0.846 -2.082  1.634  1.259]\n",
      "[-0.239 -1.021  1.845  4.315]\n",
      "[0.219 0.173 0.735 2.227]\n",
      "[ 0.315  0.471 -0.085 -0.41 ]\n",
      "[ 0.207  0.005 -0.608 -2.475]\n",
      "[-0.058 -1.033 -0.844 -3.353]\n",
      "[-0.256 -1.929 -0.23  -1.623]\n",
      "[-0.226 -2.109  0.367  0.494]\n",
      "[-0.076 -1.781  0.458  1.261]\n",
      "[ 0.043 -1.403  0.218  0.87 ]\n",
      "[ 0.073 -1.225 -0.031  0.174]\n"
     ]
    }
   ],
   "source": [
    "x_t = np.array([3.4, 0., 0., 0.])\n",
    "horizon = int(1.1 * 60) # simulation time\n",
    "K = np.zeros((1, num_x_obs))\n",
    "trajectory = []\n",
    "\n",
    "for t in range(int(6*60)):\n",
    "    for _ in range(1):\n",
    "        K = replan(x_t, K, A, B, horizon)\n",
    "    u = np.dot(K, z(x_t))\n",
    "    x_tpo = f(x_t,u)\n",
    "    \n",
    "    x_t = x_tpo\n",
    "    x_t = index_update(x_t, index[0], wrap2Pi(x_t[0]))\n",
    "    trajectory.append(x_t)\n",
    "    if t %  20 == 0:\n",
    "        print(x_t)"
   ]
  },
  {
   "cell_type": "markdown",
   "metadata": {},
   "source": [
    "Here we visualize the resulting trajectory from applying a model-based controller using the Koopman operator representation of the dynamical system."
   ]
  },
  {
   "cell_type": "code",
   "execution_count": 11,
   "metadata": {
    "ExecuteTime": {
     "end_time": "2019-04-17T19:01:46.496016Z",
     "start_time": "2019-04-17T19:01:46.381919Z"
    }
   },
   "outputs": [
    {
     "data": {
      "image/png": "[encoded data removed]",
      "text/plain": [
       "<Figure size 432x288 with 1 Axes>"
      ]
     },
     "metadata": {
      "needs_background": "light"
     },
     "output_type": "display_data"
    }
   ],
   "source": [
    "import matplotlib.pyplot as plt\n",
    "trajectory = np.stack(trajectory)\n",
    "plt.plot(trajectory[:,0])\n",
    "plt.plot(trajectory[:,1])\n",
    "plt.xlabel('t')\n",
    "plt.ylabel('theta, x')\n",
    "plt.show()"
   ]
  },
  {
   "cell_type": "code",
   "execution_count": null,
   "metadata": {},
   "outputs": [],
   "source": []
  },
  {
   "cell_type": "code",
   "execution_count": null,
   "metadata": {},
   "outputs": [],
   "source": []
  }
 ],
 "metadata": {
  "kernelspec": {
   "display_name": "Python 3",
   "language": "python",
   "name": "python3"
  },
  "language_info": {
   "codemirror_mode": {
    "name": "ipython",
    "version": 3
   },
   "file_extension": ".py",
   "mimetype": "text/x-python",
   "name": "python",
   "nbconvert_exporter": "python",
   "pygments_lexer": "ipython3",
   "version": "3.6.9"
  },
  "toc": {
   "base_numbering": 1,
   "nav_menu": {},
   "number_sections": true,
   "sideBar": true,
   "skip_h1_title": true,
   "title_cell": "Table of Contents",
   "title_sidebar": "Contents",
   "toc_cell": false,
   "toc_position": {},
   "toc_section_display": true,
   "toc_window_display": false
  }
 },
 "nbformat": 4,
 "nbformat_minor": 4
}
