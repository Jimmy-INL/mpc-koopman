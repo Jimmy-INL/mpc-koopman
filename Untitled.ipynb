{
 "cells": [
  {
   "cell_type": "code",
   "execution_count": 1,
   "metadata": {},
   "outputs": [],
   "source": [
    "import numpy as np\n",
    "import numpy.random as npr\n",
    "from scipy.linalg import solve_discrete_are"
   ]
  },
  {
   "cell_type": "code",
   "execution_count": 2,
   "metadata": {},
   "outputs": [],
   "source": [
    "np.set_printoptions(precision=3, suppress=True)"
   ]
  },
  {
   "cell_type": "code",
   "execution_count": 3,
   "metadata": {},
   "outputs": [],
   "source": [
    "hz = 60.0\n",
    "_sat = 5.0\n",
    "def f(s, a):\n",
    "    th, x, thdot, xdot = s\n",
    "    sdot = np.array([\n",
    "                thdot, xdot,\n",
    "                9.81*np.sin(th)/1.0+_sat*a[0]*np.cos(th)/1.0-0.2*thdot,\n",
    "                _sat*a[0]-0.1*xdot])\n",
    "    return s + sdot/hz"
   ]
  },
  {
   "cell_type": "code",
   "execution_count": 4,
   "metadata": {},
   "outputs": [],
   "source": [
    "def wrap2Pi(x):\n",
    "    th = np.fmod(x+np.pi, 2.0 * np.pi)\n",
    "    if th < 0:\n",
    "        th = th + 2.0 * np.pi\n",
    "    return th - np.pi\n",
    "\n",
    "Q = np.diag([10., 0.2, 0., 0.01, 0., 0., 0.])\n",
    "Qf = np.diag([20., 0.2, 0., 0., 0., 0.,0.])\n",
    "R = np.diag([0.1])\n",
    "\n",
    "Rinv = np.linalg.inv(R)\n",
    "\n",
    "def l(x): #loss in z space\n",
    "    x[0] = wrap2Pi(x[0])\n",
    "    return np.dot(x, np.dot(Q, x))\n",
    "\n",
    "def ldx(x):\n",
    "    x[0] = wrap2Pi(x[0])\n",
    "    return 2.*np.dot(Q, x)\n",
    "\n",
    "def m(x): #loss in z space\n",
    "    x[0] = wrap2Pi(x[0])\n",
    "    return np.dot(x, np.dot(Qf, x))\n",
    "\n",
    "def mdx(x):\n",
    "    x[0] = wrap2Pi(x[0])\n",
    "    return 2.*np.dot(Qf, x)\n"
   ]
  },
  {
   "cell_type": "code",
   "execution_count": 5,
   "metadata": {},
   "outputs": [],
   "source": [
    "state_dim = 4\n",
    "action_dim = 1\n",
    "\n",
    "num_x_obs = 7\n",
    "num_u_obs = 2\n",
    "num_obs = num_x_obs + num_u_obs\n",
    "\n",
    "def z(s):\n",
    "    th, x, thdot, xdot = s\n",
    "    return np.array([th, x, thdot, xdot, np.sin(th), np.cos(th), 1.])\n",
    "\n",
    "def v(s, a):\n",
    "    th, x, thdot, xdot = s\n",
    "    return np.array([a[0], np.cos(th) * a[0]])\n",
    "\n",
    "def dvdu(s, a):\n",
    "    return np.array([[1.0, np.cos(s[0])]]).T\n",
    "    "
   ]
  },
  {
   "cell_type": "code",
   "execution_count": 6,
   "metadata": {},
   "outputs": [],
   "source": [
    "npr.seed(0) ## set the seed for reproducibility \n",
    "num_trials = 60 ## number of resets\n",
    "horizon    = 100 ## how long we simulate the system for\n",
    "M = num_trials * horizon ## M sized data\n",
    "\n",
    "_A = np.zeros((num_obs, num_obs))\n",
    "_G = np.zeros((num_obs, num_obs))\n",
    "# cnt = 0\n",
    "s_bnds = np.array([6.24, 1.0, 2.0, 2.0])\n",
    "a_bnds = np.array([1.])\n",
    "## loop to collect data\n",
    "for k in range(num_trials):\n",
    "#     x_t = npr.uniform(low=-s_bnds, high=s_bnds)\n",
    "    x_t = npr.normal(s_bnds*0., s_bnds)\n",
    "    for t in range(horizon):\n",
    "        u_t = npr.normal(0.*a_bnds, a_bnds)\n",
    "        x_tpo = f(x_t, u_t)\n",
    "        u_tpo = u_t\n",
    "\n",
    "        z1 = np.concatenate([z(x_t), v(x_t, u_t)])\n",
    "        z2 = np.concatenate([z(x_tpo), v(x_tpo, u_t)])\n",
    "        _A += np.outer(z2, z1)\n",
    "        _G += np.outer(z1, z1)\n",
    "        \n",
    "        # reset for next loop\n",
    "        x_t = x_tpo\n",
    "        u_t = u_tpo\n",
    "\n",
    "        \n",
    "# _A /= M\n",
    "# _G /= M\n",
    "\n",
    "K = np.dot(_A, np.linalg.pinv(_G, hermitian=True))\n",
    "A = K[:num_x_obs,:num_x_obs]\n",
    "B = K[:num_x_obs, num_x_obs:]\n",
    "\n",
    "# A[np.abs(A)<1e-3] = 0\n",
    "# B[np.abs(B)<1e-3] = 0"
   ]
  },
  {
   "cell_type": "code",
   "execution_count": 7,
   "metadata": {},
   "outputs": [],
   "source": [
    "T = int(1.5*hz)\n",
    "u = [np.zeros(1) for t in range(T)]\n",
    "def update(x, u, A, B):\n",
    "    zt = z(x.copy())\n",
    "    zot = []\n",
    "    for t in range(T):\n",
    "        zt = z(zt[:state_dim])\n",
    "        zot.append(zt.copy())\n",
    "        zt = np.dot(A, zt) + np.dot(B, v(zt[:state_dim], u[t]))\n",
    "    rho = np.zeros_like(zt)\n",
    "    for t in reversed(range(T)):\n",
    "        rho = ldx(zot[t].copy()) + np.dot(A.T, rho)\n",
    "        Beff = np.dot(B, dvdu(zot[t], u[t]))\n",
    "#         u[t] = np.clip(-Rinv.dot(Beff.T.dot(rho)), -1., 1.)\n",
    "        du = Beff.T.dot(rho) + 2.0 * R.dot(u[t])\n",
    "        u[t] = np.clip(u[t] - 0.1 * du, -1, 1)\n",
    "    return u"
   ]
  },
  {
   "cell_type": "code",
   "execution_count": 8,
   "metadata": {},
   "outputs": [
    {
     "name": "stdout",
     "output_type": "stream",
     "text": [
      "[ 3.14   0.     0.084 -0.083]\n",
      "[ 3.826 -1.421 -1.176 -1.553]\n",
      "[ 1.538 -1.029 -0.902  1.819]\n",
      "[ 3.952 -1.187  5.49  -2.255]\n",
      "[ 5.973 -2.423  0.565 -0.555]\n",
      "[ 6.186 -2.366  0.134  0.602]\n",
      "[ 6.234 -1.701  0.063  1.018]\n",
      "[ 6.253 -0.754  0.07   1.32 ]\n",
      "[6.301 0.359 0.124 1.359]\n",
      "[6.399 1.279 0.07  0.649]\n",
      "[ 6.393  1.338 -0.041 -0.462]\n",
      "[ 6.343  0.677  0.108 -0.863]\n",
      "[ 6.339 -0.295  0.084 -1.265]\n",
      "[ 6.271 -1.573 -0.048 -1.503]\n",
      "[ 6.207 -2.672 -0.014 -0.946]\n",
      "[ 6.2   -3.156  0.066 -0.133]\n",
      "[ 6.211 -3.039  0.06   0.507]\n",
      "[ 6.224 -2.446  0.021  0.947]\n",
      "[ 6.221 -1.533 -0.03   1.231]\n",
      "[ 6.213 -0.285  0.099  1.878]\n",
      "[6.283 1.397 0.137 2.129]\n",
      "[6.425 3.033 0.24  1.632]\n",
      "[6.473 3.677 0.133 0.098]\n",
      "[ 6.456  3.004 -0.029 -1.542]\n"
     ]
    }
   ],
   "source": [
    "xt = np.array([3.14, 0., 0., 0.])\n",
    "trajectory = []\n",
    "\n",
    "for t in range(int(20*hz)):\n",
    "    u[:-1] = u[1:]\n",
    "    u[-1] = np.zeros_like(u[-1])\n",
    "    u = update(xt, u, A, B)\n",
    "\n",
    "    u1 = u[0]\n",
    "    xtpo = f(xt, u1)\n",
    "\n",
    "    z1 = np.concatenate([z(xt), v(xt, u1)])\n",
    "    z2 = np.concatenate([z(xtpo), v(xtpo, u1)])\n",
    "    _A += np.outer(z2, z1)\n",
    "    _G += np.outer(z1, z1)\n",
    "    \n",
    "    K = np.dot(_A, np.linalg.pinv(_G, hermitian=True))\n",
    "    A = K[:num_x_obs,:num_x_obs]\n",
    "    B = K[:num_x_obs, num_x_obs:]\n",
    "    \n",
    "    xt = xtpo\n",
    "    \n",
    "    trajectory.append(xt.copy())\n",
    "    if t % 50 == 0:\n",
    "        print(xt)"
   ]
  },
  {
   "cell_type": "code",
   "execution_count": 9,
   "metadata": {},
   "outputs": [
    {
     "data": {
      "image/png": "[encoded data removed]",
      "text/plain": [
       "<Figure size 432x288 with 1 Axes>"
      ]
     },
     "metadata": {
      "needs_background": "light"
     },
     "output_type": "display_data"
    }
   ],
   "source": [
    "import matplotlib.pyplot as plt\n",
    "trajectory = np.stack(trajectory)\n",
    "plt.plot(trajectory[:,0])\n",
    "plt.plot(trajectory[:,1])\n",
    "plt.xlabel('t')\n",
    "plt.ylabel('theta, x')\n",
    "plt.show()"
   ]
  },
  {
   "cell_type": "code",
   "execution_count": null,
   "metadata": {},
   "outputs": [],
   "source": []
  }
 ],
 "metadata": {
  "kernelspec": {
   "display_name": "Python 3",
   "language": "python",
   "name": "python3"
  },
  "language_info": {
   "codemirror_mode": {
    "name": "ipython",
    "version": 3
   },
   "file_extension": ".py",
   "mimetype": "text/x-python",
   "name": "python",
   "nbconvert_exporter": "python",
   "pygments_lexer": "ipython3",
   "version": "3.6.9"
  }
 },
 "nbformat": 4,
 "nbformat_minor": 4
}
