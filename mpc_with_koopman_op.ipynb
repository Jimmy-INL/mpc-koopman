{
 "cells": [
  {
   "cell_type": "markdown",
   "metadata": {},
   "source": [
    "# Model-Based Control using Koopman Operators\n",
    "\n",
    "The Koopman operator $\\mathcal{K}$ is an infinite dimensional linear operator that directly acts on the functions of state \n",
    "$$\n",
    "    \\mathcal{K}g = g \\circ F,\n",
    "$$\n",
    "where $\\circ$ is the composition operator such that\n",
    "$$\n",
    "    \\mathcal{K}g(x(t_i)) = g(F(x(t_i))) = g(x(t_{i+1})).\n",
    "$$\n",
    "That is, the Koopman operator $\\mathcal{K}$ takes *any* observation of state $g(x(t_i))$ at time $t_i$ and evolves the function of state subject to its dynamics forward in time *linearly*. Thus, a nonlinear dynamical system can be represented by a linear Koopman operator in a lifted function space where the observations of state evolve linearly. The contribution in robotics is that now a highly nonlinear robotic system can be represented as a linear dynamical system which contains all the nonlinear information (as opposed to a Taylor expansion of the dynamics centered at an equilibrium state).\n"
   ]
  },
  {
   "cell_type": "markdown",
   "metadata": {},
   "source": [
    "## Computing the Koopman operator with Control inputs\n",
    "The Koopman operator $\\mathcal{K}$ is infeasible to compute in the infinite dimensional space. A finite subspace approximation to the operator $\\mathfrak{K} \\in \\mathbb{R}^c \\times \\mathbb{R}^c$ acting on $\\mathcal{C} \\subset \\mathbb{C}$ is used instead. Here, we define a subset of function observables (or observations of state)\n",
    "$z(x) : \\mathbb{R}^n \\in \\mathbb{R}^c \\subset \\mathcal{C}$. The output dimension of $z(x)$ will now define the finite subspace that spance $\\mathcal{C} \\subset \\mathbb{C}$.\n",
    "The operator $\\mathfrak{K}$ acting on $z(x(t_i))$ is then represented in discrete time as\n",
    "$$\n",
    "    z(x(t_{i+1})) = \\mathfrak{K} z(x(t_i)) + r(x(t_i))\n",
    "$$\n",
    "where $r(x) \\in \\mathbb{C}$ is the residual function error. Adding control to the Koopman operator representation is done by augmenting the state $x(t)$ with the input control to the system $u(t)$ where now the function observables become $z(x, u)$ and the approximate Koopman operator is given by \n",
    "$$\n",
    "    z(x(t_{i+1}), u(t_{i+1})) = \\mathfrak{K} z(x(t_i), u(t_i)) + r(x(t_i), u(t_i))\n",
    "$$\n",
    "In principle, as $c \\to \\infty$, the residual error goes to zero; however, it is sometimes possible to find $c < \\infty$ such that $r(x) = 0$. This is known as a Koopman invariant subspace, but for our purposes we won't go into too much detail.\n",
    "\n",
    "The continuous time Koopman operator is calculated by taking the matrix logarithm as $t_{i+1} - t_i \\to 0$ where we overload the notation for the Koopman operator:\n",
    "$$\n",
    "\\dot{z}(x(t), u(t)) = \\mathfrak{K} z(x(t), u(t)) + r(x(t), u(t)).\n",
    "$$\n",
    "\n",
    "We are first going to write a class for the Van der Pol dynamical system which has the following differential equation:\n",
    "$$\n",
    "    \\frac{d}{dt} \\begin{bmatrix} x_1 \\\\ x_2  \\end{bmatrix} = \\begin{bmatrix} x_2 \\\\ -x_1 + \\epsilon (1 - x_1^2)x_2 + u \\end{bmatrix}\n",
    "$$"
   ]
  },
  {
   "cell_type": "code",
   "execution_count": 81,
   "metadata": {
    "ExecuteTime": {
     "end_time": "2019-04-16T16:04:15.193984Z",
     "start_time": "2019-04-16T16:04:15.182186Z"
    }
   },
   "outputs": [],
   "source": [
    "import autograd.numpy as np\n",
    "from autograd import jacobian\n",
    "from scipy.linalg import logm\n",
    "import scipy.linalg\n",
    "\n",
    "class VanDerPol(object):\n",
    "    def __init__(self, eps=1.0, dt=0.01):\n",
    "        self.eps = eps\n",
    "        self.dt = dt\n",
    "        self.dfdx = jacobian(self.f, argnum=0)\n",
    "        self.dfdu = jacobian(self.f, argnum=1)\n",
    "        self.num_states = 2\n",
    "        self.num_actions = 2\n",
    "        self.reset()\n",
    "    def reset(self):\n",
    "        self.state = np.random.uniform(-3., 3., \n",
    "                                       size=(self.num_states,))\n",
    "        return self.state.copy() # return a copy\n",
    "    def sample_action(self):\n",
    "        return np.random.uniform(-3., 3.,\n",
    "                                size=(self.num_actions,))\n",
    "    def f(self, x, u):\n",
    "        xdot = np.array([\n",
    "            x[1],\n",
    "            -x[0] + self.eps * (1 - x[0]**2) * x[1] + u[0]\n",
    "        ])\n",
    "        return xdot\n",
    "    def get_linearization(self, x, u):\n",
    "        return self.dfdx(x, u), self.dfdu(x, u)\n",
    "    def step(self, u): ## RK4 step\n",
    "        k1 = self.f(self.state, u) * self.dt\n",
    "        k2 = self.f(self.state + k1/2.0, u) * self.dt\n",
    "        k3 = self.f(self.state + k2/2.0, u) * self.dt\n",
    "        k4 = self.f(self.state + k3, u) * self.dt\n",
    "        self.state = self.state + (k1 + 2 * (k2 + k3) + k4)/6\n",
    "#         self.state = self.state + self.f(self.state, u) * self.dt # euler integration\n",
    "        return self.state.copy()"
   ]
  },
  {
   "cell_type": "markdown",
   "metadata": {},
   "source": [
    "For the Koopman operator system, we are going to use the following basis functions:"
   ]
  },
  {
   "cell_type": "code",
   "execution_count": 82,
   "metadata": {
    "ExecuteTime": {
     "end_time": "2019-04-16T16:04:17.358175Z",
     "start_time": "2019-04-16T16:04:17.354799Z"
    }
   },
   "outputs": [],
   "source": [
    "num_x_obs = 4\n",
    "num_u_obs = 1\n",
    "num_obs = num_x_obs + num_u_obs\n",
    "def z(x, u):\n",
    "    return np.array([x[0], x[1], x[0]**2, (x[0]**2)*x[1], u[0]])\n",
    "\n",
    "zdu = jacobian(z, argnum=1) ## needed for functions where the control is not seperable \n",
    "vdp = VanDerPol() # create the dynamic system"
   ]
  },
  {
   "cell_type": "markdown",
   "metadata": {},
   "source": [
    "Provided a data set $\\mathcal{D} = \\{(x(t_m), u(t_m), x(t_{m+1}), u(t_{m+1})) \\}_{m=0}^{M-1}$, we can compute the approximate Koopman operator $\\mathfrak{K}$ using least-squares minimization over the matrix $\\mathfrak{K}$:\n",
    "$$\n",
    "    \\min_{\\mathfrak{K}} \\frac{1}{2 M} \\sum_{m=0}^{M-1} \\Vert z(x(t_{m+1}), u(t_{m+1})) - \\mathfrak{K} z(x(t_m), u(t_m)) \\Vert^2.\n",
    "$$\n",
    "Since this optimization is convex in $\\mathfrak{K}$, the solution is given by\n",
    "$$\n",
    "    \\mathfrak{K} = A G^\\dagger\n",
    "$$        \n",
    "where $\\dagger$ denotes the Moore-Penrose pseudoinverse and\n",
    "$$\n",
    "A = \\frac{1}{M} \\sum_{m=0}^{M-1} z(x(t_{m+1}), u(t_{m+1})) z(x(t_m), u(t_m))^\\top, \\\\\n",
    "            G = \\frac{1}{M} \\sum_{m=0}^{M-1} z(x(t_m), u(t_m)) z(x(t_m), u(t_m))^\\top .\n",
    "$$\n",
    "The continuous time operator is then given by $\\log(\\mathfrak{K})/t_s$.\n",
    "Note that we can solve the optimization using gradient descent methods or other\n",
    "optimization methods.\n",
    "\n",
    "In the next cell, we will collect some data and learn a Koopman operator for the functions of state described previously."
   ]
  },
  {
   "cell_type": "code",
   "execution_count": 100,
   "metadata": {
    "ExecuteTime": {
     "end_time": "2019-04-16T16:09:49.429181Z",
     "start_time": "2019-04-16T16:09:49.135192Z"
    }
   },
   "outputs": [],
   "source": [
    "np.random.seed(203) ## set the seed for reproducibility \n",
    "num_trials = 10 ## number of resets\n",
    "horizon = 200 ## how long we simulate the system for\n",
    "M = num_trials * horizon ## M sized data\n",
    "\n",
    "A = np.zeros((num_obs, num_obs))\n",
    "G = np.zeros((num_obs, num_obs))\n",
    "\n",
    "## loop to collect data\n",
    "for k in range(num_trials):\n",
    "    x_t = vdp.reset() # reset the state \n",
    "    u_t = vdp.sample_action()\n",
    "    for t in range(horizon):\n",
    "        x_tpo = vdp.step(u_t)\n",
    "        u_tpo = u_t\n",
    "        \n",
    "        A += np.outer(z(x_tpo, u_tpo), z(x_t, u_t))\n",
    "        G += np.outer(z(x_t, u_t), z(x_t, u_t))\n",
    "        \n",
    "        # reset for next loop\n",
    "        x_t = x_tpo\n",
    "        u_t = u_tpo\n",
    "A /= M\n",
    "G /= M\n",
    "koopman_operator = np.dot(A, np.linalg.pinv(G))"
   ]
  },
  {
   "cell_type": "markdown",
   "metadata": {},
   "source": [
    "Here we calculate the continuous time Koopman operator."
   ]
  },
  {
   "cell_type": "code",
   "execution_count": 101,
   "metadata": {
    "ExecuteTime": {
     "end_time": "2019-04-16T16:09:49.681190Z",
     "start_time": "2019-04-16T16:09:49.671505Z"
    }
   },
   "outputs": [],
   "source": [
    "cont_koopman_operator = logm(koopman_operator)/vdp.dt"
   ]
  },
  {
   "cell_type": "markdown",
   "metadata": {},
   "source": [
    "For optimal control with the Koopman operator, we split $\\mathfrak{K}$ into the free dynamics $A$ and dynamic actuation matrix $B$. "
   ]
  },
  {
   "cell_type": "code",
   "execution_count": 102,
   "metadata": {
    "ExecuteTime": {
     "end_time": "2019-04-16T16:09:50.249139Z",
     "start_time": "2019-04-16T16:09:50.242759Z"
    }
   },
   "outputs": [],
   "source": [
    "A = cont_koopman_operator[:num_x_obs,:num_x_obs]\n",
    "B = cont_koopman_operator[:num_x_obs, num_x_obs:]"
   ]
  },
  {
   "cell_type": "markdown",
   "metadata": {
    "ExecuteTime": {
     "end_time": "2019-04-16T16:04:20.527780Z",
     "start_time": "2019-04-16T16:04:20.521669Z"
    }
   },
   "source": [
    "Since the Koopman operator representation of the dynamical system is linear, we can directly apply LQR control."
   ]
  },
  {
   "cell_type": "code",
   "execution_count": 103,
   "metadata": {
    "ExecuteTime": {
     "end_time": "2019-04-16T16:09:51.162218Z",
     "start_time": "2019-04-16T16:09:51.143659Z"
    }
   },
   "outputs": [],
   "source": [
    "Q = np.diag([1.0, 1.0, 0., 0.])\n",
    "R = np.diag([1.0]) * 1e-2\n",
    "P = scipy.linalg.solve_continuous_are(A, B, Q, R)\n",
    "Klqr = np.linalg.inv(R).dot(B.T.dot(P))"
   ]
  },
  {
   "cell_type": "markdown",
   "metadata": {},
   "source": [
    "The controller can then be tested on the true actuated dynamical system."
   ]
  },
  {
   "cell_type": "code",
   "execution_count": 104,
   "metadata": {
    "ExecuteTime": {
     "end_time": "2019-04-16T16:09:52.003099Z",
     "start_time": "2019-04-16T16:09:51.954466Z"
    }
   },
   "outputs": [],
   "source": [
    "state = vdp.reset() # reset the state\n",
    "u_def = vdp.sample_action() # sample the action to get a dummy input\n",
    "target_z = z(0.*state, u_def)[:num_x_obs] # transform the target state into the lifted functions\n",
    "horizon = 500 # simulation time\n",
    "trajectory = np.zeros((horizon, vdp.num_states))\n",
    "for t in range(horizon):\n",
    "    u = -np.dot(Klqr, z(state, u_def)[:num_x_obs] - target_z)\n",
    "    state = vdp.step(u)\n",
    "    trajectory[t,:] = state"
   ]
  },
  {
   "cell_type": "markdown",
   "metadata": {},
   "source": [
    "Here we visualize the resulting trajectory from applying a model-based controller using the Koopman operator representation of the dynamical system."
   ]
  },
  {
   "cell_type": "code",
   "execution_count": 106,
   "metadata": {
    "ExecuteTime": {
     "end_time": "2019-04-16T16:10:12.631058Z",
     "start_time": "2019-04-16T16:10:12.478695Z"
    }
   },
   "outputs": [
    {
     "data": {
      "image/png": "[encoded data removed]",
      "text/plain": [
       "<Figure size 432x288 with 1 Axes>"
      ]
     },
     "metadata": {
      "needs_background": "light"
     },
     "output_type": "display_data"
    }
   ],
   "source": [
    "import matplotlib.pyplot as plt\n",
    "plt.plot(trajectory)\n",
    "plt.xlabel('t')\n",
    "plt.ylabel('x_1, x_2')\n",
    "plt.show()"
   ]
  }
 ],
 "metadata": {
  "kernelspec": {
   "display_name": "Python 3",
   "language": "python",
   "name": "python3"
  },
  "language_info": {
   "codemirror_mode": {
    "name": "ipython",
    "version": 3
   },
   "file_extension": ".py",
   "mimetype": "text/x-python",
   "name": "python",
   "nbconvert_exporter": "python",
   "pygments_lexer": "ipython3",
   "version": "3.6.7"
  },
  "toc": {
   "base_numbering": 1,
   "nav_menu": {},
   "number_sections": true,
   "sideBar": true,
   "skip_h1_title": true,
   "title_cell": "Table of Contents",
   "title_sidebar": "Contents",
   "toc_cell": false,
   "toc_position": {},
   "toc_section_display": true,
   "toc_window_display": false
  }
 },
 "nbformat": 4,
 "nbformat_minor": 2
}
